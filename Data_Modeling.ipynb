{
 "cells": [
  {
   "cell_type": "markdown",
   "metadata": {},
   "source": [
    "# Hierachical Clustering"
   ]
  },
  {
   "cell_type": "code",
   "execution_count": 1,
   "metadata": {
    "vscode": {
     "languageId": "r"
    }
   },
   "outputs": [
    {
     "name": "stderr",
     "output_type": "stream",
     "text": [
      "Loading required package: tidyverse\n",
      "\n",
      "-- \u001b[1mAttaching core tidyverse packages\u001b[22m ------------------------ tidyverse 2.0.0 --\n",
      "\u001b[32mv\u001b[39m \u001b[34mdplyr    \u001b[39m 1.1.4     \u001b[32mv\u001b[39m \u001b[34mreadr    \u001b[39m 2.1.5\n",
      "\u001b[32mv\u001b[39m \u001b[34mforcats  \u001b[39m 1.0.0     \u001b[32mv\u001b[39m \u001b[34mstringr  \u001b[39m 1.5.0\n",
      "\u001b[32mv\u001b[39m \u001b[34mggplot2  \u001b[39m 3.4.2     \u001b[32mv\u001b[39m \u001b[34mtibble   \u001b[39m 3.2.1\n",
      "\u001b[32mv\u001b[39m \u001b[34mlubridate\u001b[39m 1.9.3     \u001b[32mv\u001b[39m \u001b[34mtidyr    \u001b[39m 1.3.1\n",
      "\u001b[32mv\u001b[39m \u001b[34mpurrr    \u001b[39m 1.0.2     \n",
      "-- \u001b[1mConflicts\u001b[22m ------------------------------------------ tidyverse_conflicts() --\n",
      "\u001b[31mx\u001b[39m \u001b[34mdplyr\u001b[39m::\u001b[32mfilter()\u001b[39m masks \u001b[34mstats\u001b[39m::filter()\n",
      "\u001b[31mx\u001b[39m \u001b[34mdplyr\u001b[39m::\u001b[32mlag()\u001b[39m    masks \u001b[34mstats\u001b[39m::lag()\n",
      "\u001b[36mi\u001b[39m Use the conflicted package (\u001b[3m\u001b[34m<http://conflicted.r-lib.org/>\u001b[39m\u001b[23m) to force all conflicts to become errors\n"
     ]
    }
   ],
   "source": [
    "library(datasets)\n",
    "require(tidyverse)"
   ]
  },
  {
   "cell_type": "code",
   "execution_count": 3,
   "metadata": {
    "vscode": {
     "languageId": "r"
    }
   },
   "outputs": [
    {
     "data": {
      "text/html": [
       "<table class=\"dataframe\">\n",
       "<caption>A data.frame: 6 × 11</caption>\n",
       "<thead>\n",
       "\t<tr><th></th><th scope=col>mpg</th><th scope=col>cyl</th><th scope=col>disp</th><th scope=col>hp</th><th scope=col>drat</th><th scope=col>wt</th><th scope=col>qsec</th><th scope=col>vs</th><th scope=col>am</th><th scope=col>gear</th><th scope=col>carb</th></tr>\n",
       "\t<tr><th></th><th scope=col>&lt;dbl&gt;</th><th scope=col>&lt;dbl&gt;</th><th scope=col>&lt;dbl&gt;</th><th scope=col>&lt;dbl&gt;</th><th scope=col>&lt;dbl&gt;</th><th scope=col>&lt;dbl&gt;</th><th scope=col>&lt;dbl&gt;</th><th scope=col>&lt;dbl&gt;</th><th scope=col>&lt;dbl&gt;</th><th scope=col>&lt;dbl&gt;</th><th scope=col>&lt;dbl&gt;</th></tr>\n",
       "</thead>\n",
       "<tbody>\n",
       "\t<tr><th scope=row>Mazda RX4</th><td>21.0</td><td>6</td><td>160</td><td>110</td><td>3.90</td><td>2.620</td><td>16.46</td><td>0</td><td>1</td><td>4</td><td>4</td></tr>\n",
       "\t<tr><th scope=row>Mazda RX4 Wag</th><td>21.0</td><td>6</td><td>160</td><td>110</td><td>3.90</td><td>2.875</td><td>17.02</td><td>0</td><td>1</td><td>4</td><td>4</td></tr>\n",
       "\t<tr><th scope=row>Datsun 710</th><td>22.8</td><td>4</td><td>108</td><td> 93</td><td>3.85</td><td>2.320</td><td>18.61</td><td>1</td><td>1</td><td>4</td><td>1</td></tr>\n",
       "\t<tr><th scope=row>Hornet 4 Drive</th><td>21.4</td><td>6</td><td>258</td><td>110</td><td>3.08</td><td>3.215</td><td>19.44</td><td>1</td><td>0</td><td>3</td><td>1</td></tr>\n",
       "\t<tr><th scope=row>Hornet Sportabout</th><td>18.7</td><td>8</td><td>360</td><td>175</td><td>3.15</td><td>3.440</td><td>17.02</td><td>0</td><td>0</td><td>3</td><td>2</td></tr>\n",
       "\t<tr><th scope=row>Valiant</th><td>18.1</td><td>6</td><td>225</td><td>105</td><td>2.76</td><td>3.460</td><td>20.22</td><td>1</td><td>0</td><td>3</td><td>1</td></tr>\n",
       "</tbody>\n",
       "</table>\n"
      ],
      "text/latex": [
       "A data.frame: 6 × 11\n",
       "\\begin{tabular}{r|lllllllllll}\n",
       "  & mpg & cyl & disp & hp & drat & wt & qsec & vs & am & gear & carb\\\\\n",
       "  & <dbl> & <dbl> & <dbl> & <dbl> & <dbl> & <dbl> & <dbl> & <dbl> & <dbl> & <dbl> & <dbl>\\\\\n",
       "\\hline\n",
       "\tMazda RX4 & 21.0 & 6 & 160 & 110 & 3.90 & 2.620 & 16.46 & 0 & 1 & 4 & 4\\\\\n",
       "\tMazda RX4 Wag & 21.0 & 6 & 160 & 110 & 3.90 & 2.875 & 17.02 & 0 & 1 & 4 & 4\\\\\n",
       "\tDatsun 710 & 22.8 & 4 & 108 &  93 & 3.85 & 2.320 & 18.61 & 1 & 1 & 4 & 1\\\\\n",
       "\tHornet 4 Drive & 21.4 & 6 & 258 & 110 & 3.08 & 3.215 & 19.44 & 1 & 0 & 3 & 1\\\\\n",
       "\tHornet Sportabout & 18.7 & 8 & 360 & 175 & 3.15 & 3.440 & 17.02 & 0 & 0 & 3 & 2\\\\\n",
       "\tValiant & 18.1 & 6 & 225 & 105 & 2.76 & 3.460 & 20.22 & 1 & 0 & 3 & 1\\\\\n",
       "\\end{tabular}\n"
      ],
      "text/markdown": [
       "\n",
       "A data.frame: 6 × 11\n",
       "\n",
       "| <!--/--> | mpg &lt;dbl&gt; | cyl &lt;dbl&gt; | disp &lt;dbl&gt; | hp &lt;dbl&gt; | drat &lt;dbl&gt; | wt &lt;dbl&gt; | qsec &lt;dbl&gt; | vs &lt;dbl&gt; | am &lt;dbl&gt; | gear &lt;dbl&gt; | carb &lt;dbl&gt; |\n",
       "|---|---|---|---|---|---|---|---|---|---|---|---|\n",
       "| Mazda RX4 | 21.0 | 6 | 160 | 110 | 3.90 | 2.620 | 16.46 | 0 | 1 | 4 | 4 |\n",
       "| Mazda RX4 Wag | 21.0 | 6 | 160 | 110 | 3.90 | 2.875 | 17.02 | 0 | 1 | 4 | 4 |\n",
       "| Datsun 710 | 22.8 | 4 | 108 |  93 | 3.85 | 2.320 | 18.61 | 1 | 1 | 4 | 1 |\n",
       "| Hornet 4 Drive | 21.4 | 6 | 258 | 110 | 3.08 | 3.215 | 19.44 | 1 | 0 | 3 | 1 |\n",
       "| Hornet Sportabout | 18.7 | 8 | 360 | 175 | 3.15 | 3.440 | 17.02 | 0 | 0 | 3 | 2 |\n",
       "| Valiant | 18.1 | 6 | 225 | 105 | 2.76 | 3.460 | 20.22 | 1 | 0 | 3 | 1 |\n",
       "\n"
      ],
      "text/plain": [
       "                  mpg  cyl disp hp  drat wt    qsec  vs am gear carb\n",
       "Mazda RX4         21.0 6   160  110 3.90 2.620 16.46 0  1  4    4   \n",
       "Mazda RX4 Wag     21.0 6   160  110 3.90 2.875 17.02 0  1  4    4   \n",
       "Datsun 710        22.8 4   108   93 3.85 2.320 18.61 1  1  4    1   \n",
       "Hornet 4 Drive    21.4 6   258  110 3.08 3.215 19.44 1  0  3    1   \n",
       "Hornet Sportabout 18.7 8   360  175 3.15 3.440 17.02 0  0  3    2   \n",
       "Valiant           18.1 6   225  105 2.76 3.460 20.22 1  0  3    1   "
      ]
     },
     "metadata": {},
     "output_type": "display_data"
    },
    {
     "data": {
      "text/html": [
       "<table class=\"dataframe\">\n",
       "<caption>A data.frame: 6 × 9</caption>\n",
       "<thead>\n",
       "\t<tr><th></th><th scope=col>mpg</th><th scope=col>cyl</th><th scope=col>disp</th><th scope=col>hp</th><th scope=col>wt</th><th scope=col>qsec</th><th scope=col>am</th><th scope=col>gear</th><th scope=col>carb</th></tr>\n",
       "\t<tr><th></th><th scope=col>&lt;dbl&gt;</th><th scope=col>&lt;dbl&gt;</th><th scope=col>&lt;dbl&gt;</th><th scope=col>&lt;dbl&gt;</th><th scope=col>&lt;dbl&gt;</th><th scope=col>&lt;dbl&gt;</th><th scope=col>&lt;dbl&gt;</th><th scope=col>&lt;dbl&gt;</th><th scope=col>&lt;dbl&gt;</th></tr>\n",
       "</thead>\n",
       "<tbody>\n",
       "\t<tr><th scope=row>Mazda RX4</th><td>21.0</td><td>6</td><td>160</td><td>110</td><td>2.620</td><td>16.46</td><td>1</td><td>4</td><td>4</td></tr>\n",
       "\t<tr><th scope=row>Mazda RX4 Wag</th><td>21.0</td><td>6</td><td>160</td><td>110</td><td>2.875</td><td>17.02</td><td>1</td><td>4</td><td>4</td></tr>\n",
       "\t<tr><th scope=row>Datsun 710</th><td>22.8</td><td>4</td><td>108</td><td> 93</td><td>2.320</td><td>18.61</td><td>1</td><td>4</td><td>1</td></tr>\n",
       "\t<tr><th scope=row>Hornet 4 Drive</th><td>21.4</td><td>6</td><td>258</td><td>110</td><td>3.215</td><td>19.44</td><td>0</td><td>3</td><td>1</td></tr>\n",
       "\t<tr><th scope=row>Hornet Sportabout</th><td>18.7</td><td>8</td><td>360</td><td>175</td><td>3.440</td><td>17.02</td><td>0</td><td>3</td><td>2</td></tr>\n",
       "\t<tr><th scope=row>Valiant</th><td>18.1</td><td>6</td><td>225</td><td>105</td><td>3.460</td><td>20.22</td><td>0</td><td>3</td><td>1</td></tr>\n",
       "</tbody>\n",
       "</table>\n"
      ],
      "text/latex": [
       "A data.frame: 6 × 9\n",
       "\\begin{tabular}{r|lllllllll}\n",
       "  & mpg & cyl & disp & hp & wt & qsec & am & gear & carb\\\\\n",
       "  & <dbl> & <dbl> & <dbl> & <dbl> & <dbl> & <dbl> & <dbl> & <dbl> & <dbl>\\\\\n",
       "\\hline\n",
       "\tMazda RX4 & 21.0 & 6 & 160 & 110 & 2.620 & 16.46 & 1 & 4 & 4\\\\\n",
       "\tMazda RX4 Wag & 21.0 & 6 & 160 & 110 & 2.875 & 17.02 & 1 & 4 & 4\\\\\n",
       "\tDatsun 710 & 22.8 & 4 & 108 &  93 & 2.320 & 18.61 & 1 & 4 & 1\\\\\n",
       "\tHornet 4 Drive & 21.4 & 6 & 258 & 110 & 3.215 & 19.44 & 0 & 3 & 1\\\\\n",
       "\tHornet Sportabout & 18.7 & 8 & 360 & 175 & 3.440 & 17.02 & 0 & 3 & 2\\\\\n",
       "\tValiant & 18.1 & 6 & 225 & 105 & 3.460 & 20.22 & 0 & 3 & 1\\\\\n",
       "\\end{tabular}\n"
      ],
      "text/markdown": [
       "\n",
       "A data.frame: 6 × 9\n",
       "\n",
       "| <!--/--> | mpg &lt;dbl&gt; | cyl &lt;dbl&gt; | disp &lt;dbl&gt; | hp &lt;dbl&gt; | wt &lt;dbl&gt; | qsec &lt;dbl&gt; | am &lt;dbl&gt; | gear &lt;dbl&gt; | carb &lt;dbl&gt; |\n",
       "|---|---|---|---|---|---|---|---|---|---|\n",
       "| Mazda RX4 | 21.0 | 6 | 160 | 110 | 2.620 | 16.46 | 1 | 4 | 4 |\n",
       "| Mazda RX4 Wag | 21.0 | 6 | 160 | 110 | 2.875 | 17.02 | 1 | 4 | 4 |\n",
       "| Datsun 710 | 22.8 | 4 | 108 |  93 | 2.320 | 18.61 | 1 | 4 | 1 |\n",
       "| Hornet 4 Drive | 21.4 | 6 | 258 | 110 | 3.215 | 19.44 | 0 | 3 | 1 |\n",
       "| Hornet Sportabout | 18.7 | 8 | 360 | 175 | 3.440 | 17.02 | 0 | 3 | 2 |\n",
       "| Valiant | 18.1 | 6 | 225 | 105 | 3.460 | 20.22 | 0 | 3 | 1 |\n",
       "\n"
      ],
      "text/plain": [
       "                  mpg  cyl disp hp  wt    qsec  am gear carb\n",
       "Mazda RX4         21.0 6   160  110 2.620 16.46 1  4    4   \n",
       "Mazda RX4 Wag     21.0 6   160  110 2.875 17.02 1  4    4   \n",
       "Datsun 710        22.8 4   108   93 2.320 18.61 1  4    1   \n",
       "Hornet 4 Drive    21.4 6   258  110 3.215 19.44 0  3    1   \n",
       "Hornet Sportabout 18.7 8   360  175 3.440 17.02 0  3    2   \n",
       "Valiant           18.1 6   225  105 3.460 20.22 0  3    1   "
      ]
     },
     "metadata": {},
     "output_type": "display_data"
    }
   ],
   "source": [
    "head(mtcars)\n",
    "cars <- mtcars[, c(1:4, 6:7, 9:11)]  # Select variables, missing 5 and 8\n",
    "head(cars)"
   ]
  },
  {
   "cell_type": "markdown",
   "metadata": {},
   "source": [
    "## COMPUTE AND PLOT CLUSTERS"
   ]
  },
  {
   "cell_type": "code",
   "execution_count": 7,
   "metadata": {
    "vscode": {
     "languageId": "r"
    }
   },
   "outputs": [
    {
     "data": {
      "image/png": "[encoded data removed]",
      "text/plain": [
       "Plot with title \"Cluster Dendrogram\""
      ]
     },
     "metadata": {
      "image/png": {
       "height": 420,
       "width": 420
      }
     },
     "output_type": "display_data"
    }
   ],
   "source": [
    "# Save hierarchical clustering to \"hc.\" This codes uses\n",
    "# pipes from dplyr.\n",
    "hc <- cars   %>%  # Get cars data; %>% means to take the results of one step and feed it directly in as the input data into the next step\n",
    "      dist   %>%  # Compute distance/dissimilarity matrix\n",
    "      hclust      # Computer hierarchical clusters\n",
    "# ADD BOXES TO PLOT ########################################\n",
    "\n",
    "plot(hc)          # Plot dendrogram\n",
    "rect.hclust(hc, k = 2, border = \"gray\")\n",
    "rect.hclust(hc, k = 3, border = \"blue\")\n",
    "rect.hclust(hc, k = 4, border = \"green4\")\n",
    "rect.hclust(hc, k = 5, border = \"darkred\")"
   ]
  },
  {
   "cell_type": "markdown",
   "metadata": {},
   "source": [
    "# Principal Components"
   ]
  },
  {
   "cell_type": "markdown",
   "metadata": {},
   "source": [
    "## COMPUTE PCA"
   ]
  },
  {
   "cell_type": "code",
   "execution_count": 9,
   "metadata": {
    "vscode": {
     "languageId": "r"
    }
   },
   "outputs": [
    {
     "data": {
      "text/plain": [
       "Importance of components:\n",
       "                          PC1    PC2     PC3     PC4     PC5     PC6     PC7\n",
       "Standard deviation     2.3391 1.5299 0.71836 0.46491 0.38903 0.35099 0.31714\n",
       "Proportion of Variance 0.6079 0.2601 0.05734 0.02402 0.01682 0.01369 0.01118\n",
       "Cumulative Proportion  0.6079 0.8680 0.92537 0.94939 0.96620 0.97989 0.99107\n",
       "                           PC8    PC9\n",
       "Standard deviation     0.24070 0.1499\n",
       "Proportion of Variance 0.00644 0.0025\n",
       "Cumulative Proportion  0.99750 1.0000"
      ]
     },
     "metadata": {},
     "output_type": "display_data"
    },
    {
     "data": {
      "image/png": "[encoded data removed]",
      "text/plain": [
       "Plot with title \"pc\""
      ]
     },
     "metadata": {
      "image/png": {
       "height": 420,
       "width": 420
      }
     },
     "output_type": "display_data"
    }
   ],
   "source": [
    "# For entire data frame ####################################\n",
    "pc <- prcomp(cars,\n",
    "        center = TRUE,  # Centers means to 0 (optional)\n",
    "        scale = TRUE)   # Sets unit variance (helpful)\n",
    "# Get summary stats\n",
    "summary(pc)\n",
    "# Screeplot for number of components\n",
    "plot(pc)"
   ]
  },
  {
   "cell_type": "code",
   "execution_count": 10,
   "metadata": {
    "vscode": {
     "languageId": "r"
    }
   },
   "outputs": [
    {
     "data": {
      "text/plain": [
       "Importance of components:\n",
       "                          PC1    PC2     PC3     PC4     PC5     PC6     PC7\n",
       "Standard deviation     2.3391 1.5299 0.71836 0.46491 0.38903 0.35099 0.31714\n",
       "Proportion of Variance 0.6079 0.2601 0.05734 0.02402 0.01682 0.01369 0.01118\n",
       "Cumulative Proportion  0.6079 0.8680 0.92537 0.94939 0.96620 0.97989 0.99107\n",
       "                           PC8    PC9\n",
       "Standard deviation     0.24070 0.1499\n",
       "Proportion of Variance 0.00644 0.0025\n",
       "Cumulative Proportion  0.99750 1.0000"
      ]
     },
     "metadata": {},
     "output_type": "display_data"
    },
    {
     "data": {
      "image/png": "[encoded data removed]",
      "text/plain": [
       "Plot with title \"pc\""
      ]
     },
     "metadata": {
      "image/png": {
       "height": 420,
       "width": 420
      }
     },
     "output_type": "display_data"
    }
   ],
   "source": [
    "# To specify variables #####################################\n",
    "\n",
    "pc <- prcomp(~ mpg + cyl + disp + hp + wt + qsec + am +\n",
    "        gear + carb, # ~ means making prediction based on all the rest of the varaibles\n",
    "        data = mtcars, \n",
    "        center = TRUE,\n",
    "        scale = TRUE)\n",
    "# Get summary stats\n",
    "summary(pc)\n",
    "# Screeplot for number of components\n",
    "plot(pc)"
   ]
  },
  {
   "cell_type": "code",
   "execution_count": 11,
   "metadata": {
    "vscode": {
     "languageId": "r"
    }
   },
   "outputs": [
    {
     "data": {
      "text/plain": [
       "Standard deviations (1, .., p=9):\n",
       "[1] 2.3391410 1.5299383 0.7183646 0.4649052 0.3890348 0.3509911 0.3171373\n",
       "[8] 0.2406989 0.1498962\n",
       "\n",
       "Rotation (n x k) = (9 x 9):\n",
       "            PC1         PC2         PC3        PC4         PC5          PC6\n",
       "mpg  -0.4023287  0.02205294 -0.17272803 -0.1366169  0.31654561 -0.718609897\n",
       "cyl   0.4068870  0.03589482 -0.27747610  0.1410976  0.02066646 -0.214224005\n",
       "disp  0.4046964 -0.06479590 -0.17669890 -0.5089434  0.21525777  0.010052074\n",
       "hp    0.3699702  0.26518848 -0.01046827 -0.1273173  0.42166543 -0.254229405\n",
       "wt    0.3850686 -0.15955242  0.33740464 -0.4469327 -0.21141143  0.002897706\n",
       "qsec -0.2168575 -0.48343885  0.54815205 -0.2545226  0.05466817 -0.226660704\n",
       "am   -0.2594512  0.46039449 -0.19492256 -0.5354196 -0.55331460 -0.087616182\n",
       "gear -0.2195660  0.50608232  0.34579810 -0.1799814  0.50533262  0.393990378\n",
       "carb  0.2471604  0.44322600  0.53847588  0.3203064 -0.25696817 -0.398353829\n",
       "            PC7        PC8         PC9\n",
       "mpg   0.3633216 -0.1487806  0.13567069\n",
       "cyl   0.2099893  0.7951724  0.11635839\n",
       "disp  0.2007152 -0.1346748 -0.66099594\n",
       "hp   -0.6741641 -0.1210386  0.25474680\n",
       "wt    0.3392809 -0.1598333  0.57211273\n",
       "qsec -0.2986852  0.4144075 -0.19671599\n",
       "am   -0.2135605  0.1897463 -0.02465169\n",
       "gear  0.2484622  0.2614819  0.05482771\n",
       "carb  0.1321064 -0.1054553 -0.31083546"
      ]
     },
     "metadata": {},
     "output_type": "display_data"
    }
   ],
   "source": [
    "# Get standard deviations and rotation\n",
    "pc"
   ]
  },
  {
   "cell_type": "code",
   "execution_count": 12,
   "metadata": {
    "vscode": {
     "languageId": "r"
    }
   },
   "outputs": [
    {
     "data": {
      "text/html": [
       "<table class=\"dataframe\">\n",
       "<caption>A matrix: 32 × 9 of type dbl</caption>\n",
       "<thead>\n",
       "\t<tr><th></th><th scope=col>PC1</th><th scope=col>PC2</th><th scope=col>PC3</th><th scope=col>PC4</th><th scope=col>PC5</th><th scope=col>PC6</th><th scope=col>PC7</th><th scope=col>PC8</th><th scope=col>PC9</th></tr>\n",
       "</thead>\n",
       "<tbody>\n",
       "\t<tr><th scope=row>Mazda RX4</th><td>-0.82</td><td> 1.46</td><td>-0.21</td><td> 0.32</td><td>-0.85</td><td>-0.01</td><td> 0.25</td><td> 0.07</td><td>-0.18</td></tr>\n",
       "\t<tr><th scope=row>Mazda RX4 Wag</th><td>-0.79</td><td> 1.26</td><td> 0.05</td><td> 0.12</td><td>-0.89</td><td>-0.08</td><td> 0.25</td><td> 0.16</td><td>-0.09</td></tr>\n",
       "\t<tr><th scope=row>Datsun 710</th><td>-2.49</td><td> 0.03</td><td>-0.32</td><td>-0.40</td><td>-0.37</td><td> 0.54</td><td>-0.50</td><td>-0.03</td><td> 0.11</td></tr>\n",
       "\t<tr><th scope=row>Hornet 4 Drive</th><td>-0.29</td><td>-1.93</td><td>-0.32</td><td>-0.07</td><td> 0.21</td><td>-0.05</td><td>-0.01</td><td> 0.01</td><td>-0.12</td></tr>\n",
       "\t<tr><th scope=row>Hornet Sportabout</th><td> 1.56</td><td>-0.81</td><td>-1.04</td><td> 0.05</td><td> 0.38</td><td>-0.14</td><td> 0.15</td><td> 0.08</td><td>-0.15</td></tr>\n",
       "\t<tr><th scope=row>Valiant</th><td>-0.21</td><td>-2.19</td><td> 0.14</td><td>-0.07</td><td>-0.08</td><td> 0.27</td><td>-0.26</td><td> 0.28</td><td> 0.02</td></tr>\n",
       "\t<tr><th scope=row>Duster 360</th><td> 2.73</td><td> 0.29</td><td>-0.58</td><td> 0.53</td><td> 0.20</td><td>-0.21</td><td>-0.40</td><td>-0.36</td><td>-0.17</td></tr>\n",
       "\t<tr><th scope=row>Merc 240D</th><td>-1.80</td><td>-1.27</td><td> 1.03</td><td> 0.14</td><td> 0.40</td><td> 0.22</td><td> 0.54</td><td>-0.33</td><td> 0.03</td></tr>\n",
       "\t<tr><th scope=row>Merc 230</th><td>-1.90</td><td>-1.93</td><td> 1.96</td><td>-0.26</td><td> 0.61</td><td>-0.08</td><td>-0.39</td><td> 0.34</td><td>-0.19</td></tr>\n",
       "\t<tr><th scope=row>Merc 280</th><td> 0.02</td><td>-0.06</td><td> 1.06</td><td> 0.74</td><td> 0.14</td><td> 0.10</td><td> 0.43</td><td> 0.00</td><td> 0.11</td></tr>\n",
       "\t<tr><th scope=row>Merc 280C</th><td> 0.04</td><td>-0.23</td><td> 1.29</td><td> 0.68</td><td> 0.08</td><td> 0.19</td><td> 0.25</td><td> 0.17</td><td> 0.01</td></tr>\n",
       "\t<tr><th scope=row>Merc 450SE</th><td> 1.82</td><td>-0.68</td><td>-0.19</td><td> 0.30</td><td>-0.14</td><td>-0.18</td><td> 0.06</td><td> 0.14</td><td> 0.40</td></tr>\n",
       "\t<tr><th scope=row>Merc 450SL</th><td> 1.60</td><td>-0.68</td><td>-0.27</td><td> 0.40</td><td>-0.01</td><td>-0.31</td><td>-0.03</td><td> 0.22</td><td> 0.20</td></tr>\n",
       "\t<tr><th scope=row>Merc 450SLC</th><td> 1.71</td><td>-0.80</td><td>-0.07</td><td> 0.37</td><td>-0.12</td><td>-0.11</td><td>-0.21</td><td> 0.35</td><td> 0.14</td></tr>\n",
       "\t<tr><th scope=row>Cadillac Fleetwood</th><td> 3.54</td><td>-0.79</td><td> 0.62</td><td>-0.84</td><td>-0.35</td><td> 0.14</td><td> 0.17</td><td>-0.10</td><td>-0.26</td></tr>\n",
       "\t<tr><th scope=row>Lincoln Continental</th><td> 3.65</td><td>-0.73</td><td> 0.64</td><td>-0.87</td><td>-0.36</td><td> 0.12</td><td> 0.14</td><td>-0.17</td><td>-0.04</td></tr>\n",
       "\t<tr><th scope=row>Chrysler Imperial</th><td> 3.39</td><td>-0.52</td><td> 0.40</td><td>-0.82</td><td>-0.07</td><td>-0.39</td><td> 0.26</td><td>-0.36</td><td> 0.22</td></tr>\n",
       "\t<tr><th scope=row>Fiat 128</th><td>-3.53</td><td>-0.24</td><td>-0.33</td><td>-0.52</td><td>-0.03</td><td>-0.62</td><td> 0.11</td><td> 0.03</td><td> 0.21</td></tr>\n",
       "\t<tr><th scope=row>Honda Civic</th><td>-3.44</td><td> 0.33</td><td>-0.42</td><td> 0.17</td><td>-0.28</td><td>-0.46</td><td> 0.16</td><td>-0.09</td><td>-0.30</td></tr>\n",
       "\t<tr><th scope=row>Toyota Corolla</th><td>-3.85</td><td>-0.29</td><td>-0.35</td><td>-0.41</td><td> 0.13</td><td>-0.85</td><td> 0.00</td><td> 0.16</td><td> 0.02</td></tr>\n",
       "\t<tr><th scope=row>Toyota Corona</th><td>-1.64</td><td>-1.98</td><td> 0.10</td><td> 0.62</td><td> 0.05</td><td> 0.14</td><td>-0.69</td><td>-0.46</td><td>-0.07</td></tr>\n",
       "\t<tr><th scope=row>Dodge Challenger</th><td> 1.55</td><td>-0.87</td><td>-0.91</td><td> 0.33</td><td>-0.03</td><td> 0.35</td><td> 0.19</td><td> 0.20</td><td>-0.03</td></tr>\n",
       "\t<tr><th scope=row>AMC Javelin</th><td> 1.44</td><td>-0.96</td><td>-0.77</td><td> 0.37</td><td>-0.04</td><td> 0.33</td><td> 0.05</td><td> 0.33</td><td>-0.06</td></tr>\n",
       "\t<tr><th scope=row>Camaro Z28</th><td> 2.92</td><td> 0.37</td><td>-0.57</td><td> 0.53</td><td> 0.06</td><td>-0.04</td><td>-0.31</td><td>-0.47</td><td> 0.07</td></tr>\n",
       "\t<tr><th scope=row>Pontiac Firebird</th><td> 1.81</td><td>-0.90</td><td>-0.96</td><td>-0.31</td><td> 0.39</td><td>-0.19</td><td> 0.38</td><td>-0.04</td><td>-0.12</td></tr>\n",
       "\t<tr><th scope=row>Fiat X1-9</th><td>-3.22</td><td>-0.06</td><td>-0.45</td><td>-0.20</td><td>-0.25</td><td> 0.06</td><td>-0.19</td><td> 0.06</td><td> 0.01</td></tr>\n",
       "\t<tr><th scope=row>Porsche 914-2</th><td>-2.66</td><td> 1.53</td><td>-0.28</td><td>-0.21</td><td> 0.32</td><td> 0.69</td><td> 0.41</td><td>-0.25</td><td> 0.09</td></tr>\n",
       "\t<tr><th scope=row>Lotus Europa</th><td>-3.19</td><td> 1.69</td><td>-0.52</td><td> 0.01</td><td> 0.78</td><td> 0.06</td><td> 0.16</td><td>-0.22</td><td> 0.02</td></tr>\n",
       "\t<tr><th scope=row>Ford Pantera L</th><td> 1.60</td><td> 3.10</td><td>-0.61</td><td>-0.69</td><td> 0.69</td><td> 0.60</td><td>-0.18</td><td> 0.42</td><td> 0.00</td></tr>\n",
       "\t<tr><th scope=row>Ferrari Dino</th><td>-0.25</td><td> 3.18</td><td> 0.73</td><td> 0.51</td><td>-0.24</td><td> 0.06</td><td> 0.22</td><td>-0.02</td><td>-0.01</td></tr>\n",
       "\t<tr><th scope=row>Maserati Bora</th><td> 2.63</td><td> 4.40</td><td> 0.97</td><td>-0.01</td><td> 0.27</td><td>-0.57</td><td>-0.55</td><td> 0.07</td><td>-0.04</td></tr>\n",
       "\t<tr><th scope=row>Volvo 142E</th><td>-1.94</td><td> 0.28</td><td> 0.19</td><td>-0.46</td><td>-0.58</td><td> 0.40</td><td>-0.48</td><td>-0.19</td><td> 0.14</td></tr>\n",
       "</tbody>\n",
       "</table>\n"
      ],
      "text/latex": [
       "A matrix: 32 × 9 of type dbl\n",
       "\\begin{tabular}{r|lllllllll}\n",
       "  & PC1 & PC2 & PC3 & PC4 & PC5 & PC6 & PC7 & PC8 & PC9\\\\\n",
       "\\hline\n",
       "\tMazda RX4 & -0.82 &  1.46 & -0.21 &  0.32 & -0.85 & -0.01 &  0.25 &  0.07 & -0.18\\\\\n",
       "\tMazda RX4 Wag & -0.79 &  1.26 &  0.05 &  0.12 & -0.89 & -0.08 &  0.25 &  0.16 & -0.09\\\\\n",
       "\tDatsun 710 & -2.49 &  0.03 & -0.32 & -0.40 & -0.37 &  0.54 & -0.50 & -0.03 &  0.11\\\\\n",
       "\tHornet 4 Drive & -0.29 & -1.93 & -0.32 & -0.07 &  0.21 & -0.05 & -0.01 &  0.01 & -0.12\\\\\n",
       "\tHornet Sportabout &  1.56 & -0.81 & -1.04 &  0.05 &  0.38 & -0.14 &  0.15 &  0.08 & -0.15\\\\\n",
       "\tValiant & -0.21 & -2.19 &  0.14 & -0.07 & -0.08 &  0.27 & -0.26 &  0.28 &  0.02\\\\\n",
       "\tDuster 360 &  2.73 &  0.29 & -0.58 &  0.53 &  0.20 & -0.21 & -0.40 & -0.36 & -0.17\\\\\n",
       "\tMerc 240D & -1.80 & -1.27 &  1.03 &  0.14 &  0.40 &  0.22 &  0.54 & -0.33 &  0.03\\\\\n",
       "\tMerc 230 & -1.90 & -1.93 &  1.96 & -0.26 &  0.61 & -0.08 & -0.39 &  0.34 & -0.19\\\\\n",
       "\tMerc 280 &  0.02 & -0.06 &  1.06 &  0.74 &  0.14 &  0.10 &  0.43 &  0.00 &  0.11\\\\\n",
       "\tMerc 280C &  0.04 & -0.23 &  1.29 &  0.68 &  0.08 &  0.19 &  0.25 &  0.17 &  0.01\\\\\n",
       "\tMerc 450SE &  1.82 & -0.68 & -0.19 &  0.30 & -0.14 & -0.18 &  0.06 &  0.14 &  0.40\\\\\n",
       "\tMerc 450SL &  1.60 & -0.68 & -0.27 &  0.40 & -0.01 & -0.31 & -0.03 &  0.22 &  0.20\\\\\n",
       "\tMerc 450SLC &  1.71 & -0.80 & -0.07 &  0.37 & -0.12 & -0.11 & -0.21 &  0.35 &  0.14\\\\\n",
       "\tCadillac Fleetwood &  3.54 & -0.79 &  0.62 & -0.84 & -0.35 &  0.14 &  0.17 & -0.10 & -0.26\\\\\n",
       "\tLincoln Continental &  3.65 & -0.73 &  0.64 & -0.87 & -0.36 &  0.12 &  0.14 & -0.17 & -0.04\\\\\n",
       "\tChrysler Imperial &  3.39 & -0.52 &  0.40 & -0.82 & -0.07 & -0.39 &  0.26 & -0.36 &  0.22\\\\\n",
       "\tFiat 128 & -3.53 & -0.24 & -0.33 & -0.52 & -0.03 & -0.62 &  0.11 &  0.03 &  0.21\\\\\n",
       "\tHonda Civic & -3.44 &  0.33 & -0.42 &  0.17 & -0.28 & -0.46 &  0.16 & -0.09 & -0.30\\\\\n",
       "\tToyota Corolla & -3.85 & -0.29 & -0.35 & -0.41 &  0.13 & -0.85 &  0.00 &  0.16 &  0.02\\\\\n",
       "\tToyota Corona & -1.64 & -1.98 &  0.10 &  0.62 &  0.05 &  0.14 & -0.69 & -0.46 & -0.07\\\\\n",
       "\tDodge Challenger &  1.55 & -0.87 & -0.91 &  0.33 & -0.03 &  0.35 &  0.19 &  0.20 & -0.03\\\\\n",
       "\tAMC Javelin &  1.44 & -0.96 & -0.77 &  0.37 & -0.04 &  0.33 &  0.05 &  0.33 & -0.06\\\\\n",
       "\tCamaro Z28 &  2.92 &  0.37 & -0.57 &  0.53 &  0.06 & -0.04 & -0.31 & -0.47 &  0.07\\\\\n",
       "\tPontiac Firebird &  1.81 & -0.90 & -0.96 & -0.31 &  0.39 & -0.19 &  0.38 & -0.04 & -0.12\\\\\n",
       "\tFiat X1-9 & -3.22 & -0.06 & -0.45 & -0.20 & -0.25 &  0.06 & -0.19 &  0.06 &  0.01\\\\\n",
       "\tPorsche 914-2 & -2.66 &  1.53 & -0.28 & -0.21 &  0.32 &  0.69 &  0.41 & -0.25 &  0.09\\\\\n",
       "\tLotus Europa & -3.19 &  1.69 & -0.52 &  0.01 &  0.78 &  0.06 &  0.16 & -0.22 &  0.02\\\\\n",
       "\tFord Pantera L &  1.60 &  3.10 & -0.61 & -0.69 &  0.69 &  0.60 & -0.18 &  0.42 &  0.00\\\\\n",
       "\tFerrari Dino & -0.25 &  3.18 &  0.73 &  0.51 & -0.24 &  0.06 &  0.22 & -0.02 & -0.01\\\\\n",
       "\tMaserati Bora &  2.63 &  4.40 &  0.97 & -0.01 &  0.27 & -0.57 & -0.55 &  0.07 & -0.04\\\\\n",
       "\tVolvo 142E & -1.94 &  0.28 &  0.19 & -0.46 & -0.58 &  0.40 & -0.48 & -0.19 &  0.14\\\\\n",
       "\\end{tabular}\n"
      ],
      "text/markdown": [
       "\n",
       "A matrix: 32 × 9 of type dbl\n",
       "\n",
       "| <!--/--> | PC1 | PC2 | PC3 | PC4 | PC5 | PC6 | PC7 | PC8 | PC9 |\n",
       "|---|---|---|---|---|---|---|---|---|---|\n",
       "| Mazda RX4 | -0.82 |  1.46 | -0.21 |  0.32 | -0.85 | -0.01 |  0.25 |  0.07 | -0.18 |\n",
       "| Mazda RX4 Wag | -0.79 |  1.26 |  0.05 |  0.12 | -0.89 | -0.08 |  0.25 |  0.16 | -0.09 |\n",
       "| Datsun 710 | -2.49 |  0.03 | -0.32 | -0.40 | -0.37 |  0.54 | -0.50 | -0.03 |  0.11 |\n",
       "| Hornet 4 Drive | -0.29 | -1.93 | -0.32 | -0.07 |  0.21 | -0.05 | -0.01 |  0.01 | -0.12 |\n",
       "| Hornet Sportabout |  1.56 | -0.81 | -1.04 |  0.05 |  0.38 | -0.14 |  0.15 |  0.08 | -0.15 |\n",
       "| Valiant | -0.21 | -2.19 |  0.14 | -0.07 | -0.08 |  0.27 | -0.26 |  0.28 |  0.02 |\n",
       "| Duster 360 |  2.73 |  0.29 | -0.58 |  0.53 |  0.20 | -0.21 | -0.40 | -0.36 | -0.17 |\n",
       "| Merc 240D | -1.80 | -1.27 |  1.03 |  0.14 |  0.40 |  0.22 |  0.54 | -0.33 |  0.03 |\n",
       "| Merc 230 | -1.90 | -1.93 |  1.96 | -0.26 |  0.61 | -0.08 | -0.39 |  0.34 | -0.19 |\n",
       "| Merc 280 |  0.02 | -0.06 |  1.06 |  0.74 |  0.14 |  0.10 |  0.43 |  0.00 |  0.11 |\n",
       "| Merc 280C |  0.04 | -0.23 |  1.29 |  0.68 |  0.08 |  0.19 |  0.25 |  0.17 |  0.01 |\n",
       "| Merc 450SE |  1.82 | -0.68 | -0.19 |  0.30 | -0.14 | -0.18 |  0.06 |  0.14 |  0.40 |\n",
       "| Merc 450SL |  1.60 | -0.68 | -0.27 |  0.40 | -0.01 | -0.31 | -0.03 |  0.22 |  0.20 |\n",
       "| Merc 450SLC |  1.71 | -0.80 | -0.07 |  0.37 | -0.12 | -0.11 | -0.21 |  0.35 |  0.14 |\n",
       "| Cadillac Fleetwood |  3.54 | -0.79 |  0.62 | -0.84 | -0.35 |  0.14 |  0.17 | -0.10 | -0.26 |\n",
       "| Lincoln Continental |  3.65 | -0.73 |  0.64 | -0.87 | -0.36 |  0.12 |  0.14 | -0.17 | -0.04 |\n",
       "| Chrysler Imperial |  3.39 | -0.52 |  0.40 | -0.82 | -0.07 | -0.39 |  0.26 | -0.36 |  0.22 |\n",
       "| Fiat 128 | -3.53 | -0.24 | -0.33 | -0.52 | -0.03 | -0.62 |  0.11 |  0.03 |  0.21 |\n",
       "| Honda Civic | -3.44 |  0.33 | -0.42 |  0.17 | -0.28 | -0.46 |  0.16 | -0.09 | -0.30 |\n",
       "| Toyota Corolla | -3.85 | -0.29 | -0.35 | -0.41 |  0.13 | -0.85 |  0.00 |  0.16 |  0.02 |\n",
       "| Toyota Corona | -1.64 | -1.98 |  0.10 |  0.62 |  0.05 |  0.14 | -0.69 | -0.46 | -0.07 |\n",
       "| Dodge Challenger |  1.55 | -0.87 | -0.91 |  0.33 | -0.03 |  0.35 |  0.19 |  0.20 | -0.03 |\n",
       "| AMC Javelin |  1.44 | -0.96 | -0.77 |  0.37 | -0.04 |  0.33 |  0.05 |  0.33 | -0.06 |\n",
       "| Camaro Z28 |  2.92 |  0.37 | -0.57 |  0.53 |  0.06 | -0.04 | -0.31 | -0.47 |  0.07 |\n",
       "| Pontiac Firebird |  1.81 | -0.90 | -0.96 | -0.31 |  0.39 | -0.19 |  0.38 | -0.04 | -0.12 |\n",
       "| Fiat X1-9 | -3.22 | -0.06 | -0.45 | -0.20 | -0.25 |  0.06 | -0.19 |  0.06 |  0.01 |\n",
       "| Porsche 914-2 | -2.66 |  1.53 | -0.28 | -0.21 |  0.32 |  0.69 |  0.41 | -0.25 |  0.09 |\n",
       "| Lotus Europa | -3.19 |  1.69 | -0.52 |  0.01 |  0.78 |  0.06 |  0.16 | -0.22 |  0.02 |\n",
       "| Ford Pantera L |  1.60 |  3.10 | -0.61 | -0.69 |  0.69 |  0.60 | -0.18 |  0.42 |  0.00 |\n",
       "| Ferrari Dino | -0.25 |  3.18 |  0.73 |  0.51 | -0.24 |  0.06 |  0.22 | -0.02 | -0.01 |\n",
       "| Maserati Bora |  2.63 |  4.40 |  0.97 | -0.01 |  0.27 | -0.57 | -0.55 |  0.07 | -0.04 |\n",
       "| Volvo 142E | -1.94 |  0.28 |  0.19 | -0.46 | -0.58 |  0.40 | -0.48 | -0.19 |  0.14 |\n",
       "\n"
      ],
      "text/plain": [
       "                    PC1   PC2   PC3   PC4   PC5   PC6   PC7   PC8   PC9  \n",
       "Mazda RX4           -0.82  1.46 -0.21  0.32 -0.85 -0.01  0.25  0.07 -0.18\n",
       "Mazda RX4 Wag       -0.79  1.26  0.05  0.12 -0.89 -0.08  0.25  0.16 -0.09\n",
       "Datsun 710          -2.49  0.03 -0.32 -0.40 -0.37  0.54 -0.50 -0.03  0.11\n",
       "Hornet 4 Drive      -0.29 -1.93 -0.32 -0.07  0.21 -0.05 -0.01  0.01 -0.12\n",
       "Hornet Sportabout    1.56 -0.81 -1.04  0.05  0.38 -0.14  0.15  0.08 -0.15\n",
       "Valiant             -0.21 -2.19  0.14 -0.07 -0.08  0.27 -0.26  0.28  0.02\n",
       "Duster 360           2.73  0.29 -0.58  0.53  0.20 -0.21 -0.40 -0.36 -0.17\n",
       "Merc 240D           -1.80 -1.27  1.03  0.14  0.40  0.22  0.54 -0.33  0.03\n",
       "Merc 230            -1.90 -1.93  1.96 -0.26  0.61 -0.08 -0.39  0.34 -0.19\n",
       "Merc 280             0.02 -0.06  1.06  0.74  0.14  0.10  0.43  0.00  0.11\n",
       "Merc 280C            0.04 -0.23  1.29  0.68  0.08  0.19  0.25  0.17  0.01\n",
       "Merc 450SE           1.82 -0.68 -0.19  0.30 -0.14 -0.18  0.06  0.14  0.40\n",
       "Merc 450SL           1.60 -0.68 -0.27  0.40 -0.01 -0.31 -0.03  0.22  0.20\n",
       "Merc 450SLC          1.71 -0.80 -0.07  0.37 -0.12 -0.11 -0.21  0.35  0.14\n",
       "Cadillac Fleetwood   3.54 -0.79  0.62 -0.84 -0.35  0.14  0.17 -0.10 -0.26\n",
       "Lincoln Continental  3.65 -0.73  0.64 -0.87 -0.36  0.12  0.14 -0.17 -0.04\n",
       "Chrysler Imperial    3.39 -0.52  0.40 -0.82 -0.07 -0.39  0.26 -0.36  0.22\n",
       "Fiat 128            -3.53 -0.24 -0.33 -0.52 -0.03 -0.62  0.11  0.03  0.21\n",
       "Honda Civic         -3.44  0.33 -0.42  0.17 -0.28 -0.46  0.16 -0.09 -0.30\n",
       "Toyota Corolla      -3.85 -0.29 -0.35 -0.41  0.13 -0.85  0.00  0.16  0.02\n",
       "Toyota Corona       -1.64 -1.98  0.10  0.62  0.05  0.14 -0.69 -0.46 -0.07\n",
       "Dodge Challenger     1.55 -0.87 -0.91  0.33 -0.03  0.35  0.19  0.20 -0.03\n",
       "AMC Javelin          1.44 -0.96 -0.77  0.37 -0.04  0.33  0.05  0.33 -0.06\n",
       "Camaro Z28           2.92  0.37 -0.57  0.53  0.06 -0.04 -0.31 -0.47  0.07\n",
       "Pontiac Firebird     1.81 -0.90 -0.96 -0.31  0.39 -0.19  0.38 -0.04 -0.12\n",
       "Fiat X1-9           -3.22 -0.06 -0.45 -0.20 -0.25  0.06 -0.19  0.06  0.01\n",
       "Porsche 914-2       -2.66  1.53 -0.28 -0.21  0.32  0.69  0.41 -0.25  0.09\n",
       "Lotus Europa        -3.19  1.69 -0.52  0.01  0.78  0.06  0.16 -0.22  0.02\n",
       "Ford Pantera L       1.60  3.10 -0.61 -0.69  0.69  0.60 -0.18  0.42  0.00\n",
       "Ferrari Dino        -0.25  3.18  0.73  0.51 -0.24  0.06  0.22 -0.02 -0.01\n",
       "Maserati Bora        2.63  4.40  0.97 -0.01  0.27 -0.57 -0.55  0.07 -0.04\n",
       "Volvo 142E          -1.94  0.28  0.19 -0.46 -0.58  0.40 -0.48 -0.19  0.14"
      ]
     },
     "metadata": {},
     "output_type": "display_data"
    }
   ],
   "source": [
    "# See how cases load on PCs\n",
    "predict(pc) %>% round(2)"
   ]
  },
  {
   "cell_type": "code",
   "execution_count": 13,
   "metadata": {
    "vscode": {
     "languageId": "r"
    }
   },
   "outputs": [
    {
     "data": {
      "image/png": "[encoded data removed]",
      "text/plain": [
       "plot without title"
      ]
     },
     "metadata": {
      "image/png": {
       "height": 420,
       "width": 420
      }
     },
     "output_type": "display_data"
    }
   ],
   "source": [
    "# Biplot of first two components\n",
    "biplot(pc)"
   ]
  },
  {
   "cell_type": "markdown",
   "metadata": {},
   "source": [
    "# Linear Regression"
   ]
  },
  {
   "cell_type": "code",
   "execution_count": 2,
   "metadata": {
    "vscode": {
     "languageId": "r"
    }
   },
   "outputs": [
    {
     "name": "stderr",
     "output_type": "stream",
     "text": [
      "Loading required package: caret\n",
      "\n",
      "Loading required package: ggplot2\n",
      "\n"
     ]
    },
    {
     "name": "stderr",
     "output_type": "stream",
     "text": [
      "Loading required package: lattice\n",
      "\n",
      "Loading required package: lars\n",
      "\n",
      "Loaded lars 1.3\n",
      "\n",
      "\n",
      "Loading required package: tidyverse\n",
      "\n",
      "-- \u001b[1mAttaching core tidyverse packages\u001b[22m ------------------------ tidyverse 2.0.0 --\n",
      "\u001b[32mv\u001b[39m \u001b[34mdplyr    \u001b[39m 1.1.4     \u001b[32mv\u001b[39m \u001b[34mreadr    \u001b[39m 2.1.5\n",
      "\u001b[32mv\u001b[39m \u001b[34mforcats  \u001b[39m 1.0.0     \u001b[32mv\u001b[39m \u001b[34mstringr  \u001b[39m 1.5.0\n",
      "\u001b[32mv\u001b[39m \u001b[34mlubridate\u001b[39m 1.9.3     \u001b[32mv\u001b[39m \u001b[34mtibble   \u001b[39m 3.2.1\n",
      "\u001b[32mv\u001b[39m \u001b[34mpurrr    \u001b[39m 1.0.2     \u001b[32mv\u001b[39m \u001b[34mtidyr    \u001b[39m 1.3.1\n",
      "-- \u001b[1mConflicts\u001b[22m ------------------------------------------ tidyverse_conflicts() --\n",
      "\u001b[31mx\u001b[39m \u001b[34mdplyr\u001b[39m::\u001b[32mfilter()\u001b[39m masks \u001b[34mstats\u001b[39m::filter()\n",
      "\u001b[31mx\u001b[39m \u001b[34mdplyr\u001b[39m::\u001b[32mlag()\u001b[39m    masks \u001b[34mstats\u001b[39m::lag()\n",
      "\u001b[31mx\u001b[39m \u001b[34mpurrr\u001b[39m::\u001b[32mlift()\u001b[39m   masks \u001b[34mcaret\u001b[39m::lift()\n",
      "\u001b[36mi\u001b[39m Use the conflicted package (\u001b[3m\u001b[34m<http://conflicted.r-lib.org/>\u001b[39m\u001b[23m) to force all conflicts to become errors\n"
     ]
    }
   ],
   "source": [
    "library(datasets)\n",
    "require(caret)\n",
    "require(lars)\n",
    "require(tidyverse)"
   ]
  },
  {
   "cell_type": "code",
   "execution_count": 4,
   "metadata": {
    "vscode": {
     "languageId": "r"
    }
   },
   "outputs": [
    {
     "data": {
      "text/html": [
       "<table class=\"dataframe\">\n",
       "<caption>A data.frame: 6 × 12</caption>\n",
       "<thead>\n",
       "\t<tr><th></th><th scope=col>CONT</th><th scope=col>INTG</th><th scope=col>DMNR</th><th scope=col>DILG</th><th scope=col>CFMG</th><th scope=col>DECI</th><th scope=col>PREP</th><th scope=col>FAMI</th><th scope=col>ORAL</th><th scope=col>WRIT</th><th scope=col>PHYS</th><th scope=col>RTEN</th></tr>\n",
       "\t<tr><th></th><th scope=col>&lt;dbl&gt;</th><th scope=col>&lt;dbl&gt;</th><th scope=col>&lt;dbl&gt;</th><th scope=col>&lt;dbl&gt;</th><th scope=col>&lt;dbl&gt;</th><th scope=col>&lt;dbl&gt;</th><th scope=col>&lt;dbl&gt;</th><th scope=col>&lt;dbl&gt;</th><th scope=col>&lt;dbl&gt;</th><th scope=col>&lt;dbl&gt;</th><th scope=col>&lt;dbl&gt;</th><th scope=col>&lt;dbl&gt;</th></tr>\n",
       "</thead>\n",
       "<tbody>\n",
       "\t<tr><th scope=row>AARONSON,L.H.</th><td>5.7</td><td>7.9</td><td>7.7</td><td>7.3</td><td>7.1</td><td>7.4</td><td>7.1</td><td>7.1</td><td>7.1</td><td>7.0</td><td>8.3</td><td>7.8</td></tr>\n",
       "\t<tr><th scope=row>ALEXANDER,J.M.</th><td>6.8</td><td>8.9</td><td>8.8</td><td>8.5</td><td>7.8</td><td>8.1</td><td>8.0</td><td>8.0</td><td>7.8</td><td>7.9</td><td>8.5</td><td>8.7</td></tr>\n",
       "\t<tr><th scope=row>ARMENTANO,A.J.</th><td>7.2</td><td>8.1</td><td>7.8</td><td>7.8</td><td>7.5</td><td>7.6</td><td>7.5</td><td>7.5</td><td>7.3</td><td>7.4</td><td>7.9</td><td>7.8</td></tr>\n",
       "\t<tr><th scope=row>BERDON,R.I.</th><td>6.8</td><td>8.8</td><td>8.5</td><td>8.8</td><td>8.3</td><td>8.5</td><td>8.7</td><td>8.7</td><td>8.4</td><td>8.5</td><td>8.8</td><td>8.7</td></tr>\n",
       "\t<tr><th scope=row>BRACKEN,J.J.</th><td>7.3</td><td>6.4</td><td>4.3</td><td>6.5</td><td>6.0</td><td>6.2</td><td>5.7</td><td>5.7</td><td>5.1</td><td>5.3</td><td>5.5</td><td>4.8</td></tr>\n",
       "\t<tr><th scope=row>BURNS,E.B.</th><td>6.2</td><td>8.8</td><td>8.7</td><td>8.5</td><td>7.9</td><td>8.0</td><td>8.1</td><td>8.0</td><td>8.0</td><td>8.0</td><td>8.6</td><td>8.6</td></tr>\n",
       "</tbody>\n",
       "</table>\n"
      ],
      "text/latex": [
       "A data.frame: 6 × 12\n",
       "\\begin{tabular}{r|llllllllllll}\n",
       "  & CONT & INTG & DMNR & DILG & CFMG & DECI & PREP & FAMI & ORAL & WRIT & PHYS & RTEN\\\\\n",
       "  & <dbl> & <dbl> & <dbl> & <dbl> & <dbl> & <dbl> & <dbl> & <dbl> & <dbl> & <dbl> & <dbl> & <dbl>\\\\\n",
       "\\hline\n",
       "\tAARONSON,L.H. & 5.7 & 7.9 & 7.7 & 7.3 & 7.1 & 7.4 & 7.1 & 7.1 & 7.1 & 7.0 & 8.3 & 7.8\\\\\n",
       "\tALEXANDER,J.M. & 6.8 & 8.9 & 8.8 & 8.5 & 7.8 & 8.1 & 8.0 & 8.0 & 7.8 & 7.9 & 8.5 & 8.7\\\\\n",
       "\tARMENTANO,A.J. & 7.2 & 8.1 & 7.8 & 7.8 & 7.5 & 7.6 & 7.5 & 7.5 & 7.3 & 7.4 & 7.9 & 7.8\\\\\n",
       "\tBERDON,R.I. & 6.8 & 8.8 & 8.5 & 8.8 & 8.3 & 8.5 & 8.7 & 8.7 & 8.4 & 8.5 & 8.8 & 8.7\\\\\n",
       "\tBRACKEN,J.J. & 7.3 & 6.4 & 4.3 & 6.5 & 6.0 & 6.2 & 5.7 & 5.7 & 5.1 & 5.3 & 5.5 & 4.8\\\\\n",
       "\tBURNS,E.B. & 6.2 & 8.8 & 8.7 & 8.5 & 7.9 & 8.0 & 8.1 & 8.0 & 8.0 & 8.0 & 8.6 & 8.6\\\\\n",
       "\\end{tabular}\n"
      ],
      "text/markdown": [
       "\n",
       "A data.frame: 6 × 12\n",
       "\n",
       "| <!--/--> | CONT &lt;dbl&gt; | INTG &lt;dbl&gt; | DMNR &lt;dbl&gt; | DILG &lt;dbl&gt; | CFMG &lt;dbl&gt; | DECI &lt;dbl&gt; | PREP &lt;dbl&gt; | FAMI &lt;dbl&gt; | ORAL &lt;dbl&gt; | WRIT &lt;dbl&gt; | PHYS &lt;dbl&gt; | RTEN &lt;dbl&gt; |\n",
       "|---|---|---|---|---|---|---|---|---|---|---|---|---|\n",
       "| AARONSON,L.H. | 5.7 | 7.9 | 7.7 | 7.3 | 7.1 | 7.4 | 7.1 | 7.1 | 7.1 | 7.0 | 8.3 | 7.8 |\n",
       "| ALEXANDER,J.M. | 6.8 | 8.9 | 8.8 | 8.5 | 7.8 | 8.1 | 8.0 | 8.0 | 7.8 | 7.9 | 8.5 | 8.7 |\n",
       "| ARMENTANO,A.J. | 7.2 | 8.1 | 7.8 | 7.8 | 7.5 | 7.6 | 7.5 | 7.5 | 7.3 | 7.4 | 7.9 | 7.8 |\n",
       "| BERDON,R.I. | 6.8 | 8.8 | 8.5 | 8.8 | 8.3 | 8.5 | 8.7 | 8.7 | 8.4 | 8.5 | 8.8 | 8.7 |\n",
       "| BRACKEN,J.J. | 7.3 | 6.4 | 4.3 | 6.5 | 6.0 | 6.2 | 5.7 | 5.7 | 5.1 | 5.3 | 5.5 | 4.8 |\n",
       "| BURNS,E.B. | 6.2 | 8.8 | 8.7 | 8.5 | 7.9 | 8.0 | 8.1 | 8.0 | 8.0 | 8.0 | 8.6 | 8.6 |\n",
       "\n"
      ],
      "text/plain": [
       "               CONT INTG DMNR DILG CFMG DECI PREP FAMI ORAL WRIT PHYS RTEN\n",
       "AARONSON,L.H.  5.7  7.9  7.7  7.3  7.1  7.4  7.1  7.1  7.1  7.0  8.3  7.8 \n",
       "ALEXANDER,J.M. 6.8  8.9  8.8  8.5  7.8  8.1  8.0  8.0  7.8  7.9  8.5  8.7 \n",
       "ARMENTANO,A.J. 7.2  8.1  7.8  7.8  7.5  7.6  7.5  7.5  7.3  7.4  7.9  7.8 \n",
       "BERDON,R.I.    6.8  8.8  8.5  8.8  8.3  8.5  8.7  8.7  8.4  8.5  8.8  8.7 \n",
       "BRACKEN,J.J.   7.3  6.4  4.3  6.5  6.0  6.2  5.7  5.7  5.1  5.3  5.5  4.8 \n",
       "BURNS,E.B.     6.2  8.8  8.7  8.5  7.9  8.0  8.1  8.0  8.0  8.0  8.6  8.6 "
      ]
     },
     "metadata": {},
     "output_type": "display_data"
    }
   ],
   "source": [
    "head(USJudgeRatings)\n",
    "data <- USJudgeRatings"
   ]
  },
  {
   "cell_type": "code",
   "execution_count": 5,
   "metadata": {
    "vscode": {
     "languageId": "r"
    }
   },
   "outputs": [],
   "source": [
    "# Define variable groups\n",
    "x <- as.matrix(data[, -12]) # -12 means exceopt column 12\n",
    "y <- data[, 12] # only need 12 column"
   ]
  },
  {
   "cell_type": "markdown",
   "metadata": {},
   "source": [
    "## REGRESSION WITH SIMULTANEOUS ENTRY "
   ]
  },
  {
   "cell_type": "code",
   "execution_count": 6,
   "metadata": {
    "vscode": {
     "languageId": "r"
    }
   },
   "outputs": [
    {
     "data": {
      "text/plain": [
       "\n",
       "Call:\n",
       "lm(formula = RTEN ~ CONT + INTG + DMNR + DILG + CFMG + DECI + \n",
       "    PREP + FAMI + ORAL + WRIT + PHYS, data = USJudgeRatings)\n",
       "\n",
       "Coefficients:\n",
       "(Intercept)         CONT         INTG         DMNR         DILG         CFMG  \n",
       "   -2.11943      0.01280      0.36484      0.12540      0.06669     -0.19453  \n",
       "       DECI         PREP         FAMI         ORAL         WRIT         PHYS  \n",
       "    0.27829     -0.00196     -0.13579      0.54782     -0.06806      0.26881  \n"
      ]
     },
     "metadata": {},
     "output_type": "display_data"
    },
    {
     "data": {
      "text/plain": [
       "\n",
       "Call:\n",
       "lm(formula = RTEN ~ CONT + INTG + DMNR + DILG + CFMG + DECI + \n",
       "    PREP + FAMI + ORAL + WRIT + PHYS, data = USJudgeRatings)\n",
       "\n",
       "Residuals:\n",
       "     Min       1Q   Median       3Q      Max \n",
       "-0.22123 -0.06155 -0.01055  0.05045  0.26079 \n",
       "\n",
       "Coefficients:\n",
       "            Estimate Std. Error t value Pr(>|t|)    \n",
       "(Intercept) -2.11943    0.51904  -4.083 0.000290 ***\n",
       "CONT         0.01280    0.02586   0.495 0.624272    \n",
       "INTG         0.36484    0.12936   2.820 0.008291 ** \n",
       "DMNR         0.12540    0.08971   1.398 0.172102    \n",
       "DILG         0.06669    0.14303   0.466 0.644293    \n",
       "CFMG        -0.19453    0.14779  -1.316 0.197735    \n",
       "DECI         0.27829    0.13826   2.013 0.052883 .  \n",
       "PREP        -0.00196    0.24001  -0.008 0.993536    \n",
       "FAMI        -0.13579    0.26725  -0.508 0.614972    \n",
       "ORAL         0.54782    0.27725   1.976 0.057121 .  \n",
       "WRIT        -0.06806    0.31485  -0.216 0.830269    \n",
       "PHYS         0.26881    0.06213   4.326 0.000146 ***\n",
       "---\n",
       "Signif. codes:  0 '***' 0.001 '**' 0.01 '*' 0.05 '.' 0.1 ' ' 1\n",
       "\n",
       "Residual standard error: 0.1174 on 31 degrees of freedom\n",
       "Multiple R-squared:  0.9916,\tAdjusted R-squared:  0.9886 \n",
       "F-statistic: 332.9 on 11 and 31 DF,  p-value: < 2.2e-16\n"
      ]
     },
     "metadata": {},
     "output_type": "display_data"
    }
   ],
   "source": [
    "# Using variable groups\n",
    "reg1 <- lm(y ~ x) # ~ mean as a function of x\n",
    "\n",
    "# Or specify variables individually\n",
    "reg1 <- lm(RTEN ~ CONT + INTG + DMNR + DILG + CFMG +\n",
    "           DECI + PREP + FAMI + ORAL + WRIT + PHYS,\n",
    "           data = USJudgeRatings) # ~ refer to RTEN is a funtion of CONT ... variable\n",
    "\n",
    "# Results\n",
    "reg1           # Coefficients only\n",
    "summary(reg1)  # Inferential tests"
   ]
  },
  {
   "cell_type": "markdown",
   "metadata": {},
   "source": [
    "## MORE SUMMARIES "
   ]
  },
  {
   "cell_type": "code",
   "execution_count": 7,
   "metadata": {
    "vscode": {
     "languageId": "r"
    }
   },
   "outputs": [
    {
     "data": {
      "text/html": [
       "<table class=\"dataframe\">\n",
       "<caption>A anova: 12 × 5</caption>\n",
       "<thead>\n",
       "\t<tr><th></th><th scope=col>Df</th><th scope=col>Sum Sq</th><th scope=col>Mean Sq</th><th scope=col>F value</th><th scope=col>Pr(&gt;F)</th></tr>\n",
       "\t<tr><th></th><th scope=col>&lt;int&gt;</th><th scope=col>&lt;dbl&gt;</th><th scope=col>&lt;dbl&gt;</th><th scope=col>&lt;dbl&gt;</th><th scope=col>&lt;dbl&gt;</th></tr>\n",
       "</thead>\n",
       "<tbody>\n",
       "\t<tr><th scope=row>CONT</th><td> 1</td><td> 0.05762378</td><td> 0.05762378</td><td>   4.179420</td><td>4.949035e-02</td></tr>\n",
       "\t<tr><th scope=row>INTG</th><td> 1</td><td>45.09568917</td><td>45.09568917</td><td>3270.765034</td><td>5.373063e-33</td></tr>\n",
       "\t<tr><th scope=row>DMNR</th><td> 1</td><td> 1.30039151</td><td> 1.30039151</td><td>  94.316667</td><td>6.415162e-11</td></tr>\n",
       "\t<tr><th scope=row>DILG</th><td> 1</td><td> 2.34603664</td><td> 2.34603664</td><td> 170.156721</td><td>3.963268e-14</td></tr>\n",
       "\t<tr><th scope=row>CFMG</th><td> 1</td><td> 0.50348149</td><td> 0.50348149</td><td>  36.517230</td><td>1.085994e-06</td></tr>\n",
       "\t<tr><th scope=row>DECI</th><td> 1</td><td> 0.21411445</td><td> 0.21411445</td><td>  15.529601</td><td>4.305743e-04</td></tr>\n",
       "\t<tr><th scope=row>PREP</th><td> 1</td><td> 0.16416641</td><td> 0.16416641</td><td>  11.906897</td><td>1.635271e-03</td></tr>\n",
       "\t<tr><th scope=row>FAMI</th><td> 1</td><td> 0.03860099</td><td> 0.03860099</td><td>   2.799708</td><td>1.043449e-01</td></tr>\n",
       "\t<tr><th scope=row>ORAL</th><td> 1</td><td> 0.43928087</td><td> 0.43928087</td><td>  31.860795</td><td>3.384663e-06</td></tr>\n",
       "\t<tr><th scope=row>WRIT</th><td> 1</td><td> 0.06490890</td><td> 0.06490890</td><td>   4.707806</td><td>3.780964e-02</td></tr>\n",
       "\t<tr><th scope=row>PHYS</th><td> 1</td><td> 0.25806057</td><td> 0.25806057</td><td>  18.716988</td><td>1.463834e-04</td></tr>\n",
       "\t<tr><th scope=row>Residuals</th><td>31</td><td> 0.42741265</td><td> 0.01378750</td><td>         NA</td><td>          NA</td></tr>\n",
       "</tbody>\n",
       "</table>\n"
      ],
      "text/latex": [
       "A anova: 12 × 5\n",
       "\\begin{tabular}{r|lllll}\n",
       "  & Df & Sum Sq & Mean Sq & F value & Pr(>F)\\\\\n",
       "  & <int> & <dbl> & <dbl> & <dbl> & <dbl>\\\\\n",
       "\\hline\n",
       "\tCONT &  1 &  0.05762378 &  0.05762378 &    4.179420 & 4.949035e-02\\\\\n",
       "\tINTG &  1 & 45.09568917 & 45.09568917 & 3270.765034 & 5.373063e-33\\\\\n",
       "\tDMNR &  1 &  1.30039151 &  1.30039151 &   94.316667 & 6.415162e-11\\\\\n",
       "\tDILG &  1 &  2.34603664 &  2.34603664 &  170.156721 & 3.963268e-14\\\\\n",
       "\tCFMG &  1 &  0.50348149 &  0.50348149 &   36.517230 & 1.085994e-06\\\\\n",
       "\tDECI &  1 &  0.21411445 &  0.21411445 &   15.529601 & 4.305743e-04\\\\\n",
       "\tPREP &  1 &  0.16416641 &  0.16416641 &   11.906897 & 1.635271e-03\\\\\n",
       "\tFAMI &  1 &  0.03860099 &  0.03860099 &    2.799708 & 1.043449e-01\\\\\n",
       "\tORAL &  1 &  0.43928087 &  0.43928087 &   31.860795 & 3.384663e-06\\\\\n",
       "\tWRIT &  1 &  0.06490890 &  0.06490890 &    4.707806 & 3.780964e-02\\\\\n",
       "\tPHYS &  1 &  0.25806057 &  0.25806057 &   18.716988 & 1.463834e-04\\\\\n",
       "\tResiduals & 31 &  0.42741265 &  0.01378750 &          NA &           NA\\\\\n",
       "\\end{tabular}\n"
      ],
      "text/markdown": [
       "\n",
       "A anova: 12 × 5\n",
       "\n",
       "| <!--/--> | Df &lt;int&gt; | Sum Sq &lt;dbl&gt; | Mean Sq &lt;dbl&gt; | F value &lt;dbl&gt; | Pr(&gt;F) &lt;dbl&gt; |\n",
       "|---|---|---|---|---|---|\n",
       "| CONT |  1 |  0.05762378 |  0.05762378 |    4.179420 | 4.949035e-02 |\n",
       "| INTG |  1 | 45.09568917 | 45.09568917 | 3270.765034 | 5.373063e-33 |\n",
       "| DMNR |  1 |  1.30039151 |  1.30039151 |   94.316667 | 6.415162e-11 |\n",
       "| DILG |  1 |  2.34603664 |  2.34603664 |  170.156721 | 3.963268e-14 |\n",
       "| CFMG |  1 |  0.50348149 |  0.50348149 |   36.517230 | 1.085994e-06 |\n",
       "| DECI |  1 |  0.21411445 |  0.21411445 |   15.529601 | 4.305743e-04 |\n",
       "| PREP |  1 |  0.16416641 |  0.16416641 |   11.906897 | 1.635271e-03 |\n",
       "| FAMI |  1 |  0.03860099 |  0.03860099 |    2.799708 | 1.043449e-01 |\n",
       "| ORAL |  1 |  0.43928087 |  0.43928087 |   31.860795 | 3.384663e-06 |\n",
       "| WRIT |  1 |  0.06490890 |  0.06490890 |    4.707806 | 3.780964e-02 |\n",
       "| PHYS |  1 |  0.25806057 |  0.25806057 |   18.716988 | 1.463834e-04 |\n",
       "| Residuals | 31 |  0.42741265 |  0.01378750 |          NA |           NA |\n",
       "\n"
      ],
      "text/plain": [
       "          Df Sum Sq      Mean Sq     F value     Pr(>F)      \n",
       "CONT       1  0.05762378  0.05762378    4.179420 4.949035e-02\n",
       "INTG       1 45.09568917 45.09568917 3270.765034 5.373063e-33\n",
       "DMNR       1  1.30039151  1.30039151   94.316667 6.415162e-11\n",
       "DILG       1  2.34603664  2.34603664  170.156721 3.963268e-14\n",
       "CFMG       1  0.50348149  0.50348149   36.517230 1.085994e-06\n",
       "DECI       1  0.21411445  0.21411445   15.529601 4.305743e-04\n",
       "PREP       1  0.16416641  0.16416641   11.906897 1.635271e-03\n",
       "FAMI       1  0.03860099  0.03860099    2.799708 1.043449e-01\n",
       "ORAL       1  0.43928087  0.43928087   31.860795 3.384663e-06\n",
       "WRIT       1  0.06490890  0.06490890    4.707806 3.780964e-02\n",
       "PHYS       1  0.25806057  0.25806057   18.716988 1.463834e-04\n",
       "Residuals 31  0.42741265  0.01378750          NA           NA"
      ]
     },
     "metadata": {},
     "output_type": "display_data"
    },
    {
     "data": {
      "text/html": [
       "<style>\n",
       ".dl-inline {width: auto; margin:0; padding: 0}\n",
       ".dl-inline>dt, .dl-inline>dd {float: none; width: auto; display: inline-block}\n",
       ".dl-inline>dt::after {content: \":\\0020\"; padding-right: .5ex}\n",
       ".dl-inline>dt:not(:first-of-type) {padding-left: .5ex}\n",
       "</style><dl class=dl-inline><dt>(Intercept)</dt><dd>-2.11942968179329</dd><dt>CONT</dt><dd>0.0127963773918443</dd><dt>INTG</dt><dd>0.364840272014897</dd><dt>DMNR</dt><dd>0.125399137854698</dd><dt>DILG</dt><dd>0.0666909760662325</dd><dt>CFMG</dt><dd>-0.194527026617026</dd><dt>DECI</dt><dd>0.278292931605456</dd><dt>PREP</dt><dd>-0.00196011133376661</dd><dt>FAMI</dt><dd>-0.135790972195284</dd><dt>ORAL</dt><dd>0.547817679832873</dd><dt>WRIT</dt><dd>-0.0680615953914737</dd><dt>PHYS</dt><dd>0.268811919161934</dd></dl>\n"
      ],
      "text/latex": [
       "\\begin{description*}\n",
       "\\item[(Intercept)] -2.11942968179329\n",
       "\\item[CONT] 0.0127963773918443\n",
       "\\item[INTG] 0.364840272014897\n",
       "\\item[DMNR] 0.125399137854698\n",
       "\\item[DILG] 0.0666909760662325\n",
       "\\item[CFMG] -0.194527026617026\n",
       "\\item[DECI] 0.278292931605456\n",
       "\\item[PREP] -0.00196011133376661\n",
       "\\item[FAMI] -0.135790972195284\n",
       "\\item[ORAL] 0.547817679832873\n",
       "\\item[WRIT] -0.0680615953914737\n",
       "\\item[PHYS] 0.268811919161934\n",
       "\\end{description*}\n"
      ],
      "text/markdown": [
       "(Intercept)\n",
       ":   -2.11942968179329CONT\n",
       ":   0.0127963773918443INTG\n",
       ":   0.364840272014897DMNR\n",
       ":   0.125399137854698DILG\n",
       ":   0.0666909760662325CFMG\n",
       ":   -0.194527026617026DECI\n",
       ":   0.278292931605456PREP\n",
       ":   -0.00196011133376661FAMI\n",
       ":   -0.135790972195284ORAL\n",
       ":   0.547817679832873WRIT\n",
       ":   -0.0680615953914737PHYS\n",
       ":   0.268811919161934\n",
       "\n"
      ],
      "text/plain": [
       " (Intercept)         CONT         INTG         DMNR         DILG         CFMG \n",
       "-2.119429682  0.012796377  0.364840272  0.125399138  0.066690976 -0.194527027 \n",
       "        DECI         PREP         FAMI         ORAL         WRIT         PHYS \n",
       " 0.278292932 -0.001960111 -0.135790972  0.547817680 -0.068061595  0.268811919 "
      ]
     },
     "metadata": {},
     "output_type": "display_data"
    },
    {
     "data": {
      "text/html": [
       "<table class=\"dataframe\">\n",
       "<caption>A matrix: 12 × 2 of type dbl</caption>\n",
       "<thead>\n",
       "\t<tr><th></th><th scope=col>2.5 %</th><th scope=col>97.5 %</th></tr>\n",
       "</thead>\n",
       "<tbody>\n",
       "\t<tr><th scope=row>(Intercept)</th><td>-3.178010347</td><td>-1.06084902</td></tr>\n",
       "\t<tr><th scope=row>CONT</th><td>-0.039955335</td><td> 0.06554809</td></tr>\n",
       "\t<tr><th scope=row>INTG</th><td> 0.101011150</td><td> 0.62866939</td></tr>\n",
       "\t<tr><th scope=row>DMNR</th><td>-0.057571651</td><td> 0.30836993</td></tr>\n",
       "\t<tr><th scope=row>DILG</th><td>-0.225031708</td><td> 0.35841366</td></tr>\n",
       "\t<tr><th scope=row>CFMG</th><td>-0.495940888</td><td> 0.10688683</td></tr>\n",
       "\t<tr><th scope=row>DECI</th><td>-0.003683181</td><td> 0.56026904</td></tr>\n",
       "\t<tr><th scope=row>PREP</th><td>-0.491456059</td><td> 0.48753584</td></tr>\n",
       "\t<tr><th scope=row>FAMI</th><td>-0.680844080</td><td> 0.40926214</td></tr>\n",
       "\t<tr><th scope=row>ORAL</th><td>-0.017628284</td><td> 1.11326364</td></tr>\n",
       "\t<tr><th scope=row>WRIT</th><td>-0.710196975</td><td> 0.57407378</td></tr>\n",
       "\t<tr><th scope=row>PHYS</th><td> 0.142088434</td><td> 0.39553540</td></tr>\n",
       "</tbody>\n",
       "</table>\n"
      ],
      "text/latex": [
       "A matrix: 12 × 2 of type dbl\n",
       "\\begin{tabular}{r|ll}\n",
       "  & 2.5 \\% & 97.5 \\%\\\\\n",
       "\\hline\n",
       "\t(Intercept) & -3.178010347 & -1.06084902\\\\\n",
       "\tCONT & -0.039955335 &  0.06554809\\\\\n",
       "\tINTG &  0.101011150 &  0.62866939\\\\\n",
       "\tDMNR & -0.057571651 &  0.30836993\\\\\n",
       "\tDILG & -0.225031708 &  0.35841366\\\\\n",
       "\tCFMG & -0.495940888 &  0.10688683\\\\\n",
       "\tDECI & -0.003683181 &  0.56026904\\\\\n",
       "\tPREP & -0.491456059 &  0.48753584\\\\\n",
       "\tFAMI & -0.680844080 &  0.40926214\\\\\n",
       "\tORAL & -0.017628284 &  1.11326364\\\\\n",
       "\tWRIT & -0.710196975 &  0.57407378\\\\\n",
       "\tPHYS &  0.142088434 &  0.39553540\\\\\n",
       "\\end{tabular}\n"
      ],
      "text/markdown": [
       "\n",
       "A matrix: 12 × 2 of type dbl\n",
       "\n",
       "| <!--/--> | 2.5 % | 97.5 % |\n",
       "|---|---|---|\n",
       "| (Intercept) | -3.178010347 | -1.06084902 |\n",
       "| CONT | -0.039955335 |  0.06554809 |\n",
       "| INTG |  0.101011150 |  0.62866939 |\n",
       "| DMNR | -0.057571651 |  0.30836993 |\n",
       "| DILG | -0.225031708 |  0.35841366 |\n",
       "| CFMG | -0.495940888 |  0.10688683 |\n",
       "| DECI | -0.003683181 |  0.56026904 |\n",
       "| PREP | -0.491456059 |  0.48753584 |\n",
       "| FAMI | -0.680844080 |  0.40926214 |\n",
       "| ORAL | -0.017628284 |  1.11326364 |\n",
       "| WRIT | -0.710196975 |  0.57407378 |\n",
       "| PHYS |  0.142088434 |  0.39553540 |\n",
       "\n"
      ],
      "text/plain": [
       "            2.5 %        97.5 %     \n",
       "(Intercept) -3.178010347 -1.06084902\n",
       "CONT        -0.039955335  0.06554809\n",
       "INTG         0.101011150  0.62866939\n",
       "DMNR        -0.057571651  0.30836993\n",
       "DILG        -0.225031708  0.35841366\n",
       "CFMG        -0.495940888  0.10688683\n",
       "DECI        -0.003683181  0.56026904\n",
       "PREP        -0.491456059  0.48753584\n",
       "FAMI        -0.680844080  0.40926214\n",
       "ORAL        -0.017628284  1.11326364\n",
       "WRIT        -0.710196975  0.57407378\n",
       "PHYS         0.142088434  0.39553540"
      ]
     },
     "metadata": {},
     "output_type": "display_data"
    },
    {
     "data": {
      "text/html": [
       "<style>\n",
       ".dl-inline {width: auto; margin:0; padding: 0}\n",
       ".dl-inline>dt, .dl-inline>dd {float: none; width: auto; display: inline-block}\n",
       ".dl-inline>dt::after {content: \":\\0020\"; padding-right: .5ex}\n",
       ".dl-inline>dt:not(:first-of-type) {padding-left: .5ex}\n",
       "</style><dl class=dl-inline><dt>AARONSON,L.H.</dt><dd>0.167428295017039</dd><dt>ALEXANDER,J.M.</dt><dd>0.159904302772648</dd><dt>ARMENTANO,A.J.</dt><dd>0.131818800299846</dd><dt>BERDON,R.I.</dt><dd>-0.0721243487660778</dd><dt>BRACKEN,J.J.</dt><dd>-0.166351358367794</dd><dt>BURNS,E.B.</dt><dd>0.0344455088067191</dd><dt>CALLAHAN,R.J.</dt><dd>-0.122867277430026</dd><dt>COHEN,S.S.</dt><dd>-0.0359845065029777</dd><dt>DALY,J.J.</dt><dd>-0.0414643392723512</dd><dt>DANNEHY,J.F.</dt><dd>0.105484916712862</dd><dt>DEAN,H.H.</dt><dd>0.0315661299294977</dd><dt>DEVITA,H.J.</dt><dd>0.0279048489769715</dd><dt>DRISCOLL,P.J.</dt><dd>-0.00663028435204474</dd><dt>GRILLO,A.E.</dt><dd>0.121511625754102</dd><dt>HADDEN,W.L.JR.</dt><dd>-0.0707169454541448</dd><dt>HAMILL,E.C.</dt><dd>0.0963751277156319</dd><dt>HEALEY.A.H.</dt><dd>0.0966781230775005</dd><dt>HULL,T.C.</dt><dd>0.0587324089912395</dd><dt>LEVINE,I.</dt><dd>0.26079143039293</dd><dt>LEVISTER,R.L.</dt><dd>-0.0613783951036366</dd><dt>MARTIN,L.F.</dt><dd>-0.0105476009574091</dd><dt>MCGRATH,J.F.</dt><dd>-0.0926140135370356</dd><dt>MIGNONE,A.F.</dt><dd>-0.096402214865513</dd><dt>MISSAL,H.M.</dt><dd>-0.0479617599866198</dd><dt>MULVEY,H.M.</dt><dd>0.0279999236295553</dd><dt>NARUK,H.J.</dt><dd>-0.0633662510554083</dd><dt>O'BRIEN,F.J.</dt><dd>-0.0142423076474057</dd><dt>O'SULLIVAN,T.J.</dt><dd>-0.191822695590152</dd><dt>PASKEY,L.</dt><dd>0.0253091921664982</dd><dt>RUBINOW,J.E.</dt><dd>-0.0179725261543001</dd><dt>SADEN.G.A.</dt><dd>-0.0144131915072442</dd><dt>SATANIELLO,A.G.</dt><dd>0.114510447001219</dd><dt>SHEA,D.M.</dt><dd>-0.0617147924758264</dd><dt>SHEA,J.F.JR.</dt><dd>-0.0608608819965288</dd><dt>SIDOR,W.J.</dt><dd>0.0421019215183941</dd><dt>SPEZIALE,J.A.</dt><dd>0.147460609559764</dd><dt>SPONZO,M.J.</dt><dd>0.0421784996965393</dd><dt>STAPLETON,J.F.</dt><dd>-0.221232591120357</dd><dt>TESTO,R.J.</dt><dd>-0.0375263259888015</dd><dt>TIERNEY,W.L.JR.</dt><dd>-0.00075377992952335</dd><dt>WALL,R.A.</dt><dd>-0.00242778449423757</dd><dt>WRIGHT,D.B.</dt><dd>-0.120465634669106</dd><dt>ZARRILLI,K.J.</dt><dd>-0.0603603047944362</dd></dl>\n"
      ],
      "text/latex": [
       "\\begin{description*}\n",
       "\\item[AARONSON,L.H.] 0.167428295017039\n",
       "\\item[ALEXANDER,J.M.] 0.159904302772648\n",
       "\\item[ARMENTANO,A.J.] 0.131818800299846\n",
       "\\item[BERDON,R.I.] -0.0721243487660778\n",
       "\\item[BRACKEN,J.J.] -0.166351358367794\n",
       "\\item[BURNS,E.B.] 0.0344455088067191\n",
       "\\item[CALLAHAN,R.J.] -0.122867277430026\n",
       "\\item[COHEN,S.S.] -0.0359845065029777\n",
       "\\item[DALY,J.J.] -0.0414643392723512\n",
       "\\item[DANNEHY,J.F.] 0.105484916712862\n",
       "\\item[DEAN,H.H.] 0.0315661299294977\n",
       "\\item[DEVITA,H.J.] 0.0279048489769715\n",
       "\\item[DRISCOLL,P.J.] -0.00663028435204474\n",
       "\\item[GRILLO,A.E.] 0.121511625754102\n",
       "\\item[HADDEN,W.L.JR.] -0.0707169454541448\n",
       "\\item[HAMILL,E.C.] 0.0963751277156319\n",
       "\\item[HEALEY.A.H.] 0.0966781230775005\n",
       "\\item[HULL,T.C.] 0.0587324089912395\n",
       "\\item[LEVINE,I.] 0.26079143039293\n",
       "\\item[LEVISTER,R.L.] -0.0613783951036366\n",
       "\\item[MARTIN,L.F.] -0.0105476009574091\n",
       "\\item[MCGRATH,J.F.] -0.0926140135370356\n",
       "\\item[MIGNONE,A.F.] -0.096402214865513\n",
       "\\item[MISSAL,H.M.] -0.0479617599866198\n",
       "\\item[MULVEY,H.M.] 0.0279999236295553\n",
       "\\item[NARUK,H.J.] -0.0633662510554083\n",
       "\\item[O'BRIEN,F.J.] -0.0142423076474057\n",
       "\\item[O'SULLIVAN,T.J.] -0.191822695590152\n",
       "\\item[PASKEY,L.] 0.0253091921664982\n",
       "\\item[RUBINOW,J.E.] -0.0179725261543001\n",
       "\\item[SADEN.G.A.] -0.0144131915072442\n",
       "\\item[SATANIELLO,A.G.] 0.114510447001219\n",
       "\\item[SHEA,D.M.] -0.0617147924758264\n",
       "\\item[SHEA,J.F.JR.] -0.0608608819965288\n",
       "\\item[SIDOR,W.J.] 0.0421019215183941\n",
       "\\item[SPEZIALE,J.A.] 0.147460609559764\n",
       "\\item[SPONZO,M.J.] 0.0421784996965393\n",
       "\\item[STAPLETON,J.F.] -0.221232591120357\n",
       "\\item[TESTO,R.J.] -0.0375263259888015\n",
       "\\item[TIERNEY,W.L.JR.] -0.00075377992952335\n",
       "\\item[WALL,R.A.] -0.00242778449423757\n",
       "\\item[WRIGHT,D.B.] -0.120465634669106\n",
       "\\item[ZARRILLI,K.J.] -0.0603603047944362\n",
       "\\end{description*}\n"
      ],
      "text/markdown": [
       "AARONSON,L.H.\n",
       ":   0.167428295017039ALEXANDER,J.M.\n",
       ":   0.159904302772648ARMENTANO,A.J.\n",
       ":   0.131818800299846BERDON,R.I.\n",
       ":   -0.0721243487660778BRACKEN,J.J.\n",
       ":   -0.166351358367794BURNS,E.B.\n",
       ":   0.0344455088067191CALLAHAN,R.J.\n",
       ":   -0.122867277430026COHEN,S.S.\n",
       ":   -0.0359845065029777DALY,J.J.\n",
       ":   -0.0414643392723512DANNEHY,J.F.\n",
       ":   0.105484916712862DEAN,H.H.\n",
       ":   0.0315661299294977DEVITA,H.J.\n",
       ":   0.0279048489769715DRISCOLL,P.J.\n",
       ":   -0.00663028435204474GRILLO,A.E.\n",
       ":   0.121511625754102HADDEN,W.L.JR.\n",
       ":   -0.0707169454541448HAMILL,E.C.\n",
       ":   0.0963751277156319HEALEY.A.H.\n",
       ":   0.0966781230775005HULL,T.C.\n",
       ":   0.0587324089912395LEVINE,I.\n",
       ":   0.26079143039293LEVISTER,R.L.\n",
       ":   -0.0613783951036366MARTIN,L.F.\n",
       ":   -0.0105476009574091MCGRATH,J.F.\n",
       ":   -0.0926140135370356MIGNONE,A.F.\n",
       ":   -0.096402214865513MISSAL,H.M.\n",
       ":   -0.0479617599866198MULVEY,H.M.\n",
       ":   0.0279999236295553NARUK,H.J.\n",
       ":   -0.0633662510554083O'BRIEN,F.J.\n",
       ":   -0.0142423076474057O'SULLIVAN,T.J.\n",
       ":   -0.191822695590152PASKEY,L.\n",
       ":   0.0253091921664982RUBINOW,J.E.\n",
       ":   -0.0179725261543001SADEN.G.A.\n",
       ":   -0.0144131915072442SATANIELLO,A.G.\n",
       ":   0.114510447001219SHEA,D.M.\n",
       ":   -0.0617147924758264SHEA,J.F.JR.\n",
       ":   -0.0608608819965288SIDOR,W.J.\n",
       ":   0.0421019215183941SPEZIALE,J.A.\n",
       ":   0.147460609559764SPONZO,M.J.\n",
       ":   0.0421784996965393STAPLETON,J.F.\n",
       ":   -0.221232591120357TESTO,R.J.\n",
       ":   -0.0375263259888015TIERNEY,W.L.JR.\n",
       ":   -0.00075377992952335WALL,R.A.\n",
       ":   -0.00242778449423757WRIGHT,D.B.\n",
       ":   -0.120465634669106ZARRILLI,K.J.\n",
       ":   -0.0603603047944362\n",
       "\n"
      ],
      "text/plain": [
       "  AARONSON,L.H.  ALEXANDER,J.M.  ARMENTANO,A.J.     BERDON,R.I.    BRACKEN,J.J. \n",
       "   0.1674282950    0.1599043028    0.1318188003   -0.0721243488   -0.1663513584 \n",
       "     BURNS,E.B.   CALLAHAN,R.J.      COHEN,S.S.       DALY,J.J.    DANNEHY,J.F. \n",
       "   0.0344455088   -0.1228672774   -0.0359845065   -0.0414643393    0.1054849167 \n",
       "      DEAN,H.H.     DEVITA,H.J.   DRISCOLL,P.J.     GRILLO,A.E.  HADDEN,W.L.JR. \n",
       "   0.0315661299    0.0279048490   -0.0066302844    0.1215116258   -0.0707169455 \n",
       "    HAMILL,E.C.     HEALEY.A.H.       HULL,T.C.       LEVINE,I.   LEVISTER,R.L. \n",
       "   0.0963751277    0.0966781231    0.0587324090    0.2607914304   -0.0613783951 \n",
       "    MARTIN,L.F.    MCGRATH,J.F.    MIGNONE,A.F.     MISSAL,H.M.     MULVEY,H.M. \n",
       "  -0.0105476010   -0.0926140135   -0.0964022149   -0.0479617600    0.0279999236 \n",
       "     NARUK,H.J.    O'BRIEN,F.J. O'SULLIVAN,T.J.       PASKEY,L.    RUBINOW,J.E. \n",
       "  -0.0633662511   -0.0142423076   -0.1918226956    0.0253091922   -0.0179725262 \n",
       "     SADEN.G.A. SATANIELLO,A.G.       SHEA,D.M.    SHEA,J.F.JR.      SIDOR,W.J. \n",
       "  -0.0144131915    0.1145104470   -0.0617147925   -0.0608608820    0.0421019215 \n",
       "  SPEZIALE,J.A.     SPONZO,M.J.  STAPLETON,J.F.      TESTO,R.J. TIERNEY,W.L.JR. \n",
       "   0.1474606096    0.0421784997   -0.2212325911   -0.0375263260   -0.0007537799 \n",
       "      WALL,R.A.     WRIGHT,D.B.   ZARRILLI,K.J. \n",
       "  -0.0024277845   -0.1204656347   -0.0603603048 "
      ]
     },
     "metadata": {},
     "output_type": "display_data"
    },
    {
     "data": {
      "image/png": "[encoded data removed]",
      "text/plain": [
       "Plot with title \"Histogram of residuals(reg1)\""
      ]
     },
     "metadata": {
      "image/png": {
       "height": 420,
       "width": 420
      }
     },
     "output_type": "display_data"
    }
   ],
   "source": [
    "anova(reg1)            # Coefficients w/inferential tests\n",
    "coef(reg1)             # Coefficients (same as reg1)\n",
    "confint(reg1)          # CI for coefficients\n",
    "resid(reg1)            # Residuals case-by-case\n",
    "hist(residuals(reg1))  # Histogram of residuals"
   ]
  },
  {
   "cell_type": "markdown",
   "metadata": {},
   "source": [
    "## ADDITIONAL MODELS"
   ]
  },
  {
   "cell_type": "code",
   "execution_count": 11,
   "metadata": {
    "vscode": {
     "languageId": "r"
    }
   },
   "outputs": [],
   "source": [
    "# Conventional stepwise regression\n",
    "stepwise <- lars(x, y, type = \"stepwise\")\n",
    "\n",
    "# Stagewise: Like stepwise but with better generalizability\n",
    "forward <- lars(x, y, type = \"forward.stagewise\")\n",
    "\n",
    "# LAR: Least Angle Regression\n",
    "lar <- lars(x, y, type = \"lar\")\n",
    "\n",
    "# LASSO: Least Absolute Shrinkage and Selection Operator\n",
    "lasso <- lars(x, y, type = \"lasso\")"
   ]
  },
  {
   "cell_type": "code",
   "execution_count": 12,
   "metadata": {
    "vscode": {
     "languageId": "r"
    }
   },
   "outputs": [
    {
     "data": {
      "text/html": [
       "<style>\n",
       ".dl-inline {width: auto; margin:0; padding: 0}\n",
       ".dl-inline>dt, .dl-inline>dd {float: none; width: auto; display: inline-block}\n",
       ".dl-inline>dt::after {content: \":\\0020\"; padding-right: .5ex}\n",
       ".dl-inline>dt:not(:first-of-type) {padding-left: .5ex}\n",
       "</style><dl class=dl-inline><dt>stepwise</dt><dd>0.99</dd><dt>forward</dt><dd>0.99</dd><dt>lar</dt><dd>0.99</dd><dt>lasso</dt><dd>0.99</dd></dl>\n"
      ],
      "text/latex": [
       "\\begin{description*}\n",
       "\\item[stepwise] 0.99\n",
       "\\item[forward] 0.99\n",
       "\\item[lar] 0.99\n",
       "\\item[lasso] 0.99\n",
       "\\end{description*}\n"
      ],
      "text/markdown": [
       "stepwise\n",
       ":   0.99forward\n",
       ":   0.99lar\n",
       ":   0.99lasso\n",
       ":   0.99\n",
       "\n"
      ],
      "text/plain": [
       "stepwise  forward      lar    lasso \n",
       "    0.99     0.99     0.99     0.99 "
      ]
     },
     "metadata": {},
     "output_type": "display_data"
    }
   ],
   "source": [
    "# Comparison of R^2 for new models\n",
    "r2comp <- c(stepwise$R2[6], forward$R2[6], \n",
    "            lar$R2[6], lasso$R2[6]) %>% \n",
    "            round(2)\n",
    "names(r2comp) <- c(\"stepwise\", \"forward\", \"lar\", \"lasso\") \n",
    "r2comp  # Show values of R^2"
   ]
  },
  {
   "cell_type": "code",
   "execution_count": 13,
   "metadata": {
    "vscode": {
     "languageId": "r"
    }
   },
   "outputs": [],
   "source": [
    "# Clear environment\n",
    "rm(list = ls()) "
   ]
  }
 ],
 "metadata": {
  "kernelspec": {
   "display_name": "R",
   "language": "R",
   "name": "ir"
  },
  "language_info": {
   "codemirror_mode": "r",
   "file_extension": ".r",
   "mimetype": "text/x-r-source",
   "name": "R",
   "pygments_lexer": "r",
   "version": "4.1.3"
  }
 },
 "nbformat": 4,
 "nbformat_minor": 2
}
