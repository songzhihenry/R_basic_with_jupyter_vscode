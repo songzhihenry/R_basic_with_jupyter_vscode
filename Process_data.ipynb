{
 "cells": [
  {
   "cell_type": "markdown",
   "metadata": {},
   "source": [
    "# CREATE DATA"
   ]
  },
  {
   "cell_type": "code",
   "execution_count": 1,
   "metadata": {
    "vscode": {
     "languageId": "r"
    }
   },
   "outputs": [
    {
     "data": {
      "text/html": [
       "<style>\n",
       ".list-inline {list-style: none; margin:0; padding: 0}\n",
       ".list-inline>li {display: inline-block}\n",
       ".list-inline>li:not(:last-child)::after {content: \"\\00b7\"; padding: 0 .5ex}\n",
       "</style>\n",
       "<ol class=list-inline><li>1</li><li>2</li><li>3</li></ol>\n"
      ],
      "text/latex": [
       "\\begin{enumerate*}\n",
       "\\item 1\n",
       "\\item 2\n",
       "\\item 3\n",
       "\\end{enumerate*}\n"
      ],
      "text/markdown": [
       "1. 1\n",
       "2. 2\n",
       "3. 3\n",
       "\n",
       "\n"
      ],
      "text/plain": [
       "[1] 1 2 3"
      ]
     },
     "metadata": {},
     "output_type": "display_data"
    },
    {
     "data": {
      "text/html": [
       "<style>\n",
       ".list-inline {list-style: none; margin:0; padding: 0}\n",
       ".list-inline>li {display: inline-block}\n",
       ".list-inline>li:not(:last-child)::after {content: \"\\00b7\"; padding: 0 .5ex}\n",
       "</style>\n",
       "<ol class=list-inline><li>1</li><li>2</li><li>3</li><li>4</li><li>5</li><li>6</li><li>7</li><li>8</li><li>9</li></ol>\n"
      ],
      "text/latex": [
       "\\begin{enumerate*}\n",
       "\\item 1\n",
       "\\item 2\n",
       "\\item 3\n",
       "\\item 4\n",
       "\\item 5\n",
       "\\item 6\n",
       "\\item 7\n",
       "\\item 8\n",
       "\\item 9\n",
       "\\end{enumerate*}\n"
      ],
      "text/markdown": [
       "1. 1\n",
       "2. 2\n",
       "3. 3\n",
       "4. 4\n",
       "5. 5\n",
       "6. 6\n",
       "7. 7\n",
       "8. 8\n",
       "9. 9\n",
       "\n",
       "\n"
      ],
      "text/plain": [
       "[1] 1 2 3 4 5 6 7 8 9"
      ]
     },
     "metadata": {},
     "output_type": "display_data"
    }
   ],
   "source": [
    "(x1 <- 1:3)\n",
    "(y  <- 1:9)"
   ]
  },
  {
   "cell_type": "code",
   "execution_count": 2,
   "metadata": {
    "vscode": {
     "languageId": "r"
    }
   },
   "outputs": [
    {
     "data": {
      "text/html": [
       "<table class=\"dataframe\">\n",
       "<caption>A data.frame: 9 × 2</caption>\n",
       "<thead>\n",
       "\t<tr><th scope=col>x1</th><th scope=col>y</th></tr>\n",
       "\t<tr><th scope=col>&lt;int&gt;</th><th scope=col>&lt;int&gt;</th></tr>\n",
       "</thead>\n",
       "<tbody>\n",
       "\t<tr><td>1</td><td>1</td></tr>\n",
       "\t<tr><td>2</td><td>2</td></tr>\n",
       "\t<tr><td>3</td><td>3</td></tr>\n",
       "\t<tr><td>1</td><td>4</td></tr>\n",
       "\t<tr><td>2</td><td>5</td></tr>\n",
       "\t<tr><td>3</td><td>6</td></tr>\n",
       "\t<tr><td>1</td><td>7</td></tr>\n",
       "\t<tr><td>2</td><td>8</td></tr>\n",
       "\t<tr><td>3</td><td>9</td></tr>\n",
       "</tbody>\n",
       "</table>\n"
      ],
      "text/latex": [
       "A data.frame: 9 × 2\n",
       "\\begin{tabular}{ll}\n",
       " x1 & y\\\\\n",
       " <int> & <int>\\\\\n",
       "\\hline\n",
       "\t 1 & 1\\\\\n",
       "\t 2 & 2\\\\\n",
       "\t 3 & 3\\\\\n",
       "\t 1 & 4\\\\\n",
       "\t 2 & 5\\\\\n",
       "\t 3 & 6\\\\\n",
       "\t 1 & 7\\\\\n",
       "\t 2 & 8\\\\\n",
       "\t 3 & 9\\\\\n",
       "\\end{tabular}\n"
      ],
      "text/markdown": [
       "\n",
       "A data.frame: 9 × 2\n",
       "\n",
       "| x1 &lt;int&gt; | y &lt;int&gt; |\n",
       "|---|---|\n",
       "| 1 | 1 |\n",
       "| 2 | 2 |\n",
       "| 3 | 3 |\n",
       "| 1 | 4 |\n",
       "| 2 | 5 |\n",
       "| 3 | 6 |\n",
       "| 1 | 7 |\n",
       "| 2 | 8 |\n",
       "| 3 | 9 |\n",
       "\n"
      ],
      "text/plain": [
       "  x1 y\n",
       "1 1  1\n",
       "2 2  2\n",
       "3 3  3\n",
       "4 1  4\n",
       "5 2  5\n",
       "6 3  6\n",
       "7 1  7\n",
       "8 2  8\n",
       "9 3  9"
      ]
     },
     "metadata": {},
     "output_type": "display_data"
    },
    {
     "data": {
      "text/html": [
       "'integer'"
      ],
      "text/latex": [
       "'integer'"
      ],
      "text/markdown": [
       "'integer'"
      ],
      "text/plain": [
       "[1] \"integer\""
      ]
     },
     "metadata": {},
     "output_type": "display_data"
    },
    {
     "name": "stdout",
     "output_type": "stream",
     "text": [
      "'data.frame':\t9 obs. of  2 variables:\n",
      " $ x1: int  1 2 3 1 2 3 1 2 3\n",
      " $ y : int  1 2 3 4 5 6 7 8 9\n"
     ]
    }
   ],
   "source": [
    "# Combine variables\n",
    "(df1 <- cbind.data.frame(x1, y)) #will repeat x1 three times\n",
    "typeof(df1$x1)\n",
    "str(df1)"
   ]
  },
  {
   "cell_type": "markdown",
   "metadata": {},
   "source": [
    "# AS.FACTOR"
   ]
  },
  {
   "cell_type": "code",
   "execution_count": 3,
   "metadata": {
    "vscode": {
     "languageId": "r"
    }
   },
   "outputs": [
    {
     "data": {
      "text/html": [
       "<style>\n",
       ".list-inline {list-style: none; margin:0; padding: 0}\n",
       ".list-inline>li {display: inline-block}\n",
       ".list-inline>li:not(:last-child)::after {content: \"\\00b7\"; padding: 0 .5ex}\n",
       "</style>\n",
       "<ol class=list-inline><li>1</li><li>2</li><li>3</li></ol>\n",
       "\n",
       "<details>\n",
       "\t<summary style=display:list-item;cursor:pointer>\n",
       "\t\t<strong>Levels</strong>:\n",
       "\t</summary>\n",
       "\t<style>\n",
       "\t.list-inline {list-style: none; margin:0; padding: 0}\n",
       "\t.list-inline>li {display: inline-block}\n",
       "\t.list-inline>li:not(:last-child)::after {content: \"\\00b7\"; padding: 0 .5ex}\n",
       "\t</style>\n",
       "\t<ol class=list-inline><li>'1'</li><li>'2'</li><li>'3'</li></ol>\n",
       "</details>"
      ],
      "text/latex": [
       "\\begin{enumerate*}\n",
       "\\item 1\n",
       "\\item 2\n",
       "\\item 3\n",
       "\\end{enumerate*}\n",
       "\n",
       "\\emph{Levels}: \\begin{enumerate*}\n",
       "\\item '1'\n",
       "\\item '2'\n",
       "\\item '3'\n",
       "\\end{enumerate*}\n"
      ],
      "text/markdown": [
       "1. 1\n",
       "2. 2\n",
       "3. 3\n",
       "\n",
       "\n",
       "\n",
       "**Levels**: 1. '1'\n",
       "2. '2'\n",
       "3. '3'\n",
       "\n",
       "\n"
      ],
      "text/plain": [
       "[1] 1 2 3\n",
       "Levels: 1 2 3"
      ]
     },
     "metadata": {},
     "output_type": "display_data"
    },
    {
     "data": {
      "text/html": [
       "<table class=\"dataframe\">\n",
       "<caption>A data.frame: 9 × 2</caption>\n",
       "<thead>\n",
       "\t<tr><th scope=col>x2</th><th scope=col>y</th></tr>\n",
       "\t<tr><th scope=col>&lt;fct&gt;</th><th scope=col>&lt;int&gt;</th></tr>\n",
       "</thead>\n",
       "<tbody>\n",
       "\t<tr><td>1</td><td>1</td></tr>\n",
       "\t<tr><td>2</td><td>2</td></tr>\n",
       "\t<tr><td>3</td><td>3</td></tr>\n",
       "\t<tr><td>1</td><td>4</td></tr>\n",
       "\t<tr><td>2</td><td>5</td></tr>\n",
       "\t<tr><td>3</td><td>6</td></tr>\n",
       "\t<tr><td>1</td><td>7</td></tr>\n",
       "\t<tr><td>2</td><td>8</td></tr>\n",
       "\t<tr><td>3</td><td>9</td></tr>\n",
       "</tbody>\n",
       "</table>\n"
      ],
      "text/latex": [
       "A data.frame: 9 × 2\n",
       "\\begin{tabular}{ll}\n",
       " x2 & y\\\\\n",
       " <fct> & <int>\\\\\n",
       "\\hline\n",
       "\t 1 & 1\\\\\n",
       "\t 2 & 2\\\\\n",
       "\t 3 & 3\\\\\n",
       "\t 1 & 4\\\\\n",
       "\t 2 & 5\\\\\n",
       "\t 3 & 6\\\\\n",
       "\t 1 & 7\\\\\n",
       "\t 2 & 8\\\\\n",
       "\t 3 & 9\\\\\n",
       "\\end{tabular}\n"
      ],
      "text/markdown": [
       "\n",
       "A data.frame: 9 × 2\n",
       "\n",
       "| x2 &lt;fct&gt; | y &lt;int&gt; |\n",
       "|---|---|\n",
       "| 1 | 1 |\n",
       "| 2 | 2 |\n",
       "| 3 | 3 |\n",
       "| 1 | 4 |\n",
       "| 2 | 5 |\n",
       "| 3 | 6 |\n",
       "| 1 | 7 |\n",
       "| 2 | 8 |\n",
       "| 3 | 9 |\n",
       "\n"
      ],
      "text/plain": [
       "  x2 y\n",
       "1 1  1\n",
       "2 2  2\n",
       "3 3  3\n",
       "4 1  4\n",
       "5 2  5\n",
       "6 3  6\n",
       "7 1  7\n",
       "8 2  8\n",
       "9 3  9"
      ]
     },
     "metadata": {},
     "output_type": "display_data"
    },
    {
     "data": {
      "text/html": [
       "'integer'"
      ],
      "text/latex": [
       "'integer'"
      ],
      "text/markdown": [
       "'integer'"
      ],
      "text/plain": [
       "[1] \"integer\""
      ]
     },
     "metadata": {},
     "output_type": "display_data"
    },
    {
     "name": "stdout",
     "output_type": "stream",
     "text": [
      "'data.frame':\t9 obs. of  2 variables:\n",
      " $ x2: Factor w/ 3 levels \"1\",\"2\",\"3\": 1 2 3 1 2 3 1 2 3\n",
      " $ y : int  1 2 3 4 5 6 7 8 9\n"
     ]
    }
   ],
   "source": [
    "(x2  <- as.factor(c(1:3))) #define a variable to be a factor\n",
    "(df2 <- cbind.data.frame(x2, y))\n",
    "typeof(df2$x2)\n",
    "str(df2)"
   ]
  },
  {
   "cell_type": "markdown",
   "metadata": {},
   "source": [
    "## DEFINE EXISTING VARIABLE AS FACTOR"
   ]
  },
  {
   "cell_type": "code",
   "execution_count": 4,
   "metadata": {
    "vscode": {
     "languageId": "r"
    }
   },
   "outputs": [
    {
     "data": {
      "text/html": [
       "<style>\n",
       ".list-inline {list-style: none; margin:0; padding: 0}\n",
       ".list-inline>li {display: inline-block}\n",
       ".list-inline>li:not(:last-child)::after {content: \"\\00b7\"; padding: 0 .5ex}\n",
       "</style>\n",
       "<ol class=list-inline><li>1</li><li>2</li><li>3</li><li>1</li><li>2</li><li>3</li><li>1</li><li>2</li><li>3</li></ol>\n",
       "\n",
       "<details>\n",
       "\t<summary style=display:list-item;cursor:pointer>\n",
       "\t\t<strong>Levels</strong>:\n",
       "\t</summary>\n",
       "\t<style>\n",
       "\t.list-inline {list-style: none; margin:0; padding: 0}\n",
       "\t.list-inline>li {display: inline-block}\n",
       "\t.list-inline>li:not(:last-child)::after {content: \"\\00b7\"; padding: 0 .5ex}\n",
       "\t</style>\n",
       "\t<ol class=list-inline><li>'1'</li><li>'2'</li><li>'3'</li></ol>\n",
       "</details>"
      ],
      "text/latex": [
       "\\begin{enumerate*}\n",
       "\\item 1\n",
       "\\item 2\n",
       "\\item 3\n",
       "\\item 1\n",
       "\\item 2\n",
       "\\item 3\n",
       "\\item 1\n",
       "\\item 2\n",
       "\\item 3\n",
       "\\end{enumerate*}\n",
       "\n",
       "\\emph{Levels}: \\begin{enumerate*}\n",
       "\\item '1'\n",
       "\\item '2'\n",
       "\\item '3'\n",
       "\\end{enumerate*}\n"
      ],
      "text/markdown": [
       "1. 1\n",
       "2. 2\n",
       "3. 3\n",
       "4. 1\n",
       "5. 2\n",
       "6. 3\n",
       "7. 1\n",
       "8. 2\n",
       "9. 3\n",
       "\n",
       "\n",
       "\n",
       "**Levels**: 1. '1'\n",
       "2. '2'\n",
       "3. '3'\n",
       "\n",
       "\n"
      ],
      "text/plain": [
       "[1] 1 2 3 1 2 3 1 2 3\n",
       "Levels: 1 2 3"
      ]
     },
     "metadata": {},
     "output_type": "display_data"
    },
    {
     "data": {
      "text/html": [
       "'integer'"
      ],
      "text/latex": [
       "'integer'"
      ],
      "text/markdown": [
       "'integer'"
      ],
      "text/plain": [
       "[1] \"integer\""
      ]
     },
     "metadata": {},
     "output_type": "display_data"
    },
    {
     "name": "stdout",
     "output_type": "stream",
     "text": [
      "'data.frame':\t9 obs. of  2 variables:\n",
      " $ x3: Factor w/ 3 levels \"1\",\"2\",\"3\": 1 2 3 1 2 3 1 2 3\n",
      " $ y : int  1 2 3 4 5 6 7 8 9\n"
     ]
    }
   ],
   "source": [
    "x3  <- c(1:3)\n",
    "df3 <- cbind.data.frame(x3, y)\n",
    "(df3$x3 <- factor(df3$x3,\n",
    "  levels = c(1, 2, 3)))\n",
    "typeof(df3$x3)\n",
    "str(df3)"
   ]
  },
  {
   "cell_type": "markdown",
   "metadata": {},
   "source": [
    "## LABELS FOR FACTOR"
   ]
  },
  {
   "cell_type": "code",
   "execution_count": 5,
   "metadata": {
    "vscode": {
     "languageId": "r"
    }
   },
   "outputs": [
    {
     "data": {
      "text/html": [
       "<table class=\"dataframe\">\n",
       "<caption>A data.frame: 9 × 2</caption>\n",
       "<thead>\n",
       "\t<tr><th scope=col>x4</th><th scope=col>y</th></tr>\n",
       "\t<tr><th scope=col>&lt;fct&gt;</th><th scope=col>&lt;int&gt;</th></tr>\n",
       "</thead>\n",
       "<tbody>\n",
       "\t<tr><td>macOS  </td><td>1</td></tr>\n",
       "\t<tr><td>Windows</td><td>2</td></tr>\n",
       "\t<tr><td>Linux  </td><td>3</td></tr>\n",
       "\t<tr><td>macOS  </td><td>4</td></tr>\n",
       "\t<tr><td>Windows</td><td>5</td></tr>\n",
       "\t<tr><td>Linux  </td><td>6</td></tr>\n",
       "\t<tr><td>macOS  </td><td>7</td></tr>\n",
       "\t<tr><td>Windows</td><td>8</td></tr>\n",
       "\t<tr><td>Linux  </td><td>9</td></tr>\n",
       "</tbody>\n",
       "</table>\n"
      ],
      "text/latex": [
       "A data.frame: 9 × 2\n",
       "\\begin{tabular}{ll}\n",
       " x4 & y\\\\\n",
       " <fct> & <int>\\\\\n",
       "\\hline\n",
       "\t macOS   & 1\\\\\n",
       "\t Windows & 2\\\\\n",
       "\t Linux   & 3\\\\\n",
       "\t macOS   & 4\\\\\n",
       "\t Windows & 5\\\\\n",
       "\t Linux   & 6\\\\\n",
       "\t macOS   & 7\\\\\n",
       "\t Windows & 8\\\\\n",
       "\t Linux   & 9\\\\\n",
       "\\end{tabular}\n"
      ],
      "text/markdown": [
       "\n",
       "A data.frame: 9 × 2\n",
       "\n",
       "| x4 &lt;fct&gt; | y &lt;int&gt; |\n",
       "|---|---|\n",
       "| macOS   | 1 |\n",
       "| Windows | 2 |\n",
       "| Linux   | 3 |\n",
       "| macOS   | 4 |\n",
       "| Windows | 5 |\n",
       "| Linux   | 6 |\n",
       "| macOS   | 7 |\n",
       "| Windows | 8 |\n",
       "| Linux   | 9 |\n",
       "\n"
      ],
      "text/plain": [
       "  x4      y\n",
       "1 macOS   1\n",
       "2 Windows 2\n",
       "3 Linux   3\n",
       "4 macOS   4\n",
       "5 Windows 5\n",
       "6 Linux   6\n",
       "7 macOS   7\n",
       "8 Windows 8\n",
       "9 Linux   9"
      ]
     },
     "metadata": {},
     "output_type": "display_data"
    },
    {
     "data": {
      "text/html": [
       "'integer'"
      ],
      "text/latex": [
       "'integer'"
      ],
      "text/markdown": [
       "'integer'"
      ],
      "text/plain": [
       "[1] \"integer\""
      ]
     },
     "metadata": {},
     "output_type": "display_data"
    },
    {
     "name": "stdout",
     "output_type": "stream",
     "text": [
      "'data.frame':\t9 obs. of  2 variables:\n",
      " $ x4: Factor w/ 3 levels \"macOS\",\"Windows\",..: 1 2 3 1 2 3 1 2 3\n",
      " $ y : int  1 2 3 4 5 6 7 8 9\n"
     ]
    }
   ],
   "source": [
    "x4  <- c(1:3)\n",
    "df4 <- cbind.data.frame(x4, y)\n",
    "df4$x4 <- factor(df4$x4,\n",
    "  levels = c(1, 2, 3),\n",
    "  labels = c(\"macOS\", \"Windows\", \"Linux\")) # define your numerical variables as factors for using your own analyses\n",
    "df4\n",
    "typeof(df4$x4)\n",
    "str(df4)"
   ]
  },
  {
   "cell_type": "markdown",
   "metadata": {},
   "source": [
    "## ORDERED FACTORS AND LABELS"
   ]
  },
  {
   "cell_type": "code",
   "execution_count": 6,
   "metadata": {
    "vscode": {
     "languageId": "r"
    }
   },
   "outputs": [
    {
     "data": {
      "text/html": [
       "<style>\n",
       ".list-inline {list-style: none; margin:0; padding: 0}\n",
       ".list-inline>li {display: inline-block}\n",
       ".list-inline>li:not(:last-child)::after {content: \"\\00b7\"; padding: 0 .5ex}\n",
       "</style>\n",
       "<ol class=list-inline><li>Maybe</li><li>Yes</li><li>No</li><li>Maybe</li><li>Yes</li><li>No</li><li>Maybe</li><li>Yes</li><li>No</li></ol>\n",
       "\n",
       "<details>\n",
       "\t<summary style=display:list-item;cursor:pointer>\n",
       "\t\t<strong>Levels</strong>:\n",
       "\t</summary>\n",
       "\t<style>\n",
       "\t.list-inline {list-style: none; margin:0; padding: 0}\n",
       "\t.list-inline>li {display: inline-block}\n",
       "\t.list-inline>li:not(:last-child)::after {content: \"\\00b7\"; padding: 0 .5ex}\n",
       "\t</style>\n",
       "\t<ol class=list-inline><li>'No'</li><li>'Maybe'</li><li>'Yes'</li></ol>\n",
       "</details>"
      ],
      "text/latex": [
       "\\begin{enumerate*}\n",
       "\\item Maybe\n",
       "\\item Yes\n",
       "\\item No\n",
       "\\item Maybe\n",
       "\\item Yes\n",
       "\\item No\n",
       "\\item Maybe\n",
       "\\item Yes\n",
       "\\item No\n",
       "\\end{enumerate*}\n",
       "\n",
       "\\emph{Levels}: \\begin{enumerate*}\n",
       "\\item 'No'\n",
       "\\item 'Maybe'\n",
       "\\item 'Yes'\n",
       "\\end{enumerate*}\n"
      ],
      "text/markdown": [
       "1. Maybe\n",
       "2. Yes\n",
       "3. No\n",
       "4. Maybe\n",
       "5. Yes\n",
       "6. No\n",
       "7. Maybe\n",
       "8. Yes\n",
       "9. No\n",
       "\n",
       "\n",
       "\n",
       "**Levels**: 1. 'No'\n",
       "2. 'Maybe'\n",
       "3. 'Yes'\n",
       "\n",
       "\n"
      ],
      "text/plain": [
       "[1] Maybe Yes   No    Maybe Yes   No    Maybe Yes   No   \n",
       "Levels: No < Maybe < Yes"
      ]
     },
     "metadata": {},
     "output_type": "display_data"
    },
    {
     "data": {
      "text/html": [
       "<table class=\"dataframe\">\n",
       "<caption>A data.frame: 9 × 2</caption>\n",
       "<thead>\n",
       "\t<tr><th scope=col>x5</th><th scope=col>y</th></tr>\n",
       "\t<tr><th scope=col>&lt;ord&gt;</th><th scope=col>&lt;int&gt;</th></tr>\n",
       "</thead>\n",
       "<tbody>\n",
       "\t<tr><td>Maybe</td><td>1</td></tr>\n",
       "\t<tr><td>Yes  </td><td>2</td></tr>\n",
       "\t<tr><td>No   </td><td>3</td></tr>\n",
       "\t<tr><td>Maybe</td><td>4</td></tr>\n",
       "\t<tr><td>Yes  </td><td>5</td></tr>\n",
       "\t<tr><td>No   </td><td>6</td></tr>\n",
       "\t<tr><td>Maybe</td><td>7</td></tr>\n",
       "\t<tr><td>Yes  </td><td>8</td></tr>\n",
       "\t<tr><td>No   </td><td>9</td></tr>\n",
       "</tbody>\n",
       "</table>\n"
      ],
      "text/latex": [
       "A data.frame: 9 × 2\n",
       "\\begin{tabular}{ll}\n",
       " x5 & y\\\\\n",
       " <ord> & <int>\\\\\n",
       "\\hline\n",
       "\t Maybe & 1\\\\\n",
       "\t Yes   & 2\\\\\n",
       "\t No    & 3\\\\\n",
       "\t Maybe & 4\\\\\n",
       "\t Yes   & 5\\\\\n",
       "\t No    & 6\\\\\n",
       "\t Maybe & 7\\\\\n",
       "\t Yes   & 8\\\\\n",
       "\t No    & 9\\\\\n",
       "\\end{tabular}\n"
      ],
      "text/markdown": [
       "\n",
       "A data.frame: 9 × 2\n",
       "\n",
       "| x5 &lt;ord&gt; | y &lt;int&gt; |\n",
       "|---|---|\n",
       "| Maybe | 1 |\n",
       "| Yes   | 2 |\n",
       "| No    | 3 |\n",
       "| Maybe | 4 |\n",
       "| Yes   | 5 |\n",
       "| No    | 6 |\n",
       "| Maybe | 7 |\n",
       "| Yes   | 8 |\n",
       "| No    | 9 |\n",
       "\n"
      ],
      "text/plain": [
       "  x5    y\n",
       "1 Maybe 1\n",
       "2 Yes   2\n",
       "3 No    3\n",
       "4 Maybe 4\n",
       "5 Yes   5\n",
       "6 No    6\n",
       "7 Maybe 7\n",
       "8 Yes   8\n",
       "9 No    9"
      ]
     },
     "metadata": {},
     "output_type": "display_data"
    },
    {
     "data": {
      "text/html": [
       "'integer'"
      ],
      "text/latex": [
       "'integer'"
      ],
      "text/markdown": [
       "'integer'"
      ],
      "text/plain": [
       "[1] \"integer\""
      ]
     },
     "metadata": {},
     "output_type": "display_data"
    },
    {
     "name": "stdout",
     "output_type": "stream",
     "text": [
      "'data.frame':\t9 obs. of  2 variables:\n",
      " $ x5: Ord.factor w/ 3 levels \"No\"<\"Maybe\"<\"Yes\": 2 3 1 2 3 1 2 3 1\n",
      " $ y : int  1 2 3 4 5 6 7 8 9\n"
     ]
    }
   ],
   "source": [
    "x5  <- c(1:3)\n",
    "df5 <- cbind.data.frame(x5, y)\n",
    "(df5$x5 <- ordered(df5$x5,\n",
    "  levels = c(3, 1, 2),\n",
    "  labels = c(\"No\", \"Maybe\", \"Yes\"))) # define your numerical variables as factors for using your own analyses\n",
    "df5\n",
    "typeof(df5$x5)\n",
    "str(df5)"
   ]
  },
  {
   "cell_type": "markdown",
   "metadata": {},
   "source": [
    "# ACCESS DATA"
   ]
  },
  {
   "cell_type": "markdown",
   "metadata": {},
   "source": [
    "## Assignment operator"
   ]
  },
  {
   "cell_type": "code",
   "execution_count": 11,
   "metadata": {
    "vscode": {
     "languageId": "r"
    }
   },
   "outputs": [
    {
     "data": {
      "text/html": [
       "<style>\n",
       ".list-inline {list-style: none; margin:0; padding: 0}\n",
       ".list-inline>li {display: inline-block}\n",
       ".list-inline>li:not(:last-child)::after {content: \"\\00b7\"; padding: 0 .5ex}\n",
       "</style>\n",
       "<ol class=list-inline><li>0</li><li>1</li><li>2</li><li>3</li><li>4</li><li>5</li><li>6</li><li>7</li><li>8</li><li>9</li><li>10</li></ol>\n"
      ],
      "text/latex": [
       "\\begin{enumerate*}\n",
       "\\item 0\n",
       "\\item 1\n",
       "\\item 2\n",
       "\\item 3\n",
       "\\item 4\n",
       "\\item 5\n",
       "\\item 6\n",
       "\\item 7\n",
       "\\item 8\n",
       "\\item 9\n",
       "\\item 10\n",
       "\\end{enumerate*}\n"
      ],
      "text/markdown": [
       "1. 0\n",
       "2. 1\n",
       "3. 2\n",
       "4. 3\n",
       "5. 4\n",
       "6. 5\n",
       "7. 6\n",
       "8. 7\n",
       "9. 8\n",
       "10. 9\n",
       "11. 10\n",
       "\n",
       "\n"
      ],
      "text/plain": [
       " [1]  0  1  2  3  4  5  6  7  8  9 10"
      ]
     },
     "metadata": {},
     "output_type": "display_data"
    },
    {
     "data": {
      "text/html": [
       "<style>\n",
       ".list-inline {list-style: none; margin:0; padding: 0}\n",
       ".list-inline>li {display: inline-block}\n",
       ".list-inline>li:not(:last-child)::after {content: \"\\00b7\"; padding: 0 .5ex}\n",
       "</style>\n",
       "<ol class=list-inline><li>10</li><li>9</li><li>8</li><li>7</li><li>6</li><li>5</li><li>4</li><li>3</li><li>2</li><li>1</li><li>0</li></ol>\n"
      ],
      "text/latex": [
       "\\begin{enumerate*}\n",
       "\\item 10\n",
       "\\item 9\n",
       "\\item 8\n",
       "\\item 7\n",
       "\\item 6\n",
       "\\item 5\n",
       "\\item 4\n",
       "\\item 3\n",
       "\\item 2\n",
       "\\item 1\n",
       "\\item 0\n",
       "\\end{enumerate*}\n"
      ],
      "text/markdown": [
       "1. 10\n",
       "2. 9\n",
       "3. 8\n",
       "4. 7\n",
       "5. 6\n",
       "6. 5\n",
       "7. 4\n",
       "8. 3\n",
       "9. 2\n",
       "10. 1\n",
       "11. 0\n",
       "\n",
       "\n"
      ],
      "text/plain": [
       " [1] 10  9  8  7  6  5  4  3  2  1  0"
      ]
     },
     "metadata": {},
     "output_type": "display_data"
    }
   ],
   "source": [
    "# Assigns number 0 through 10 to x1\n",
    "x1 <- 0:10\n",
    "x1\n",
    "# Descending order\n",
    "x2 <- 10:0\n",
    "x2"
   ]
  },
  {
   "cell_type": "markdown",
   "metadata": {},
   "source": [
    "## SEQ"
   ]
  },
  {
   "cell_type": "code",
   "execution_count": 10,
   "metadata": {
    "vscode": {
     "languageId": "r"
    }
   },
   "outputs": [
    {
     "data": {
      "text/html": [
       "<style>\n",
       ".list-inline {list-style: none; margin:0; padding: 0}\n",
       ".list-inline>li {display: inline-block}\n",
       ".list-inline>li:not(:last-child)::after {content: \"\\00b7\"; padding: 0 .5ex}\n",
       "</style>\n",
       "<ol class=list-inline><li>1</li><li>2</li><li>3</li><li>4</li><li>5</li><li>6</li><li>7</li><li>8</li><li>9</li><li>10</li></ol>\n"
      ],
      "text/latex": [
       "\\begin{enumerate*}\n",
       "\\item 1\n",
       "\\item 2\n",
       "\\item 3\n",
       "\\item 4\n",
       "\\item 5\n",
       "\\item 6\n",
       "\\item 7\n",
       "\\item 8\n",
       "\\item 9\n",
       "\\item 10\n",
       "\\end{enumerate*}\n"
      ],
      "text/markdown": [
       "1. 1\n",
       "2. 2\n",
       "3. 3\n",
       "4. 4\n",
       "5. 5\n",
       "6. 6\n",
       "7. 7\n",
       "8. 8\n",
       "9. 9\n",
       "10. 10\n",
       "\n",
       "\n"
      ],
      "text/plain": [
       " [1]  1  2  3  4  5  6  7  8  9 10"
      ]
     },
     "metadata": {},
     "output_type": "display_data"
    },
    {
     "data": {
      "text/html": [
       "<style>\n",
       ".list-inline {list-style: none; margin:0; padding: 0}\n",
       ".list-inline>li {display: inline-block}\n",
       ".list-inline>li:not(:last-child)::after {content: \"\\00b7\"; padding: 0 .5ex}\n",
       "</style>\n",
       "<ol class=list-inline><li>30</li><li>27</li><li>24</li><li>21</li><li>18</li><li>15</li><li>12</li><li>9</li><li>6</li><li>3</li><li>0</li></ol>\n"
      ],
      "text/latex": [
       "\\begin{enumerate*}\n",
       "\\item 30\n",
       "\\item 27\n",
       "\\item 24\n",
       "\\item 21\n",
       "\\item 18\n",
       "\\item 15\n",
       "\\item 12\n",
       "\\item 9\n",
       "\\item 6\n",
       "\\item 3\n",
       "\\item 0\n",
       "\\end{enumerate*}\n"
      ],
      "text/markdown": [
       "1. 30\n",
       "2. 27\n",
       "3. 24\n",
       "4. 21\n",
       "5. 18\n",
       "6. 15\n",
       "7. 12\n",
       "8. 9\n",
       "9. 6\n",
       "10. 3\n",
       "11. 0\n",
       "\n",
       "\n"
      ],
      "text/plain": [
       " [1] 30 27 24 21 18 15 12  9  6  3  0"
      ]
     },
     "metadata": {},
     "output_type": "display_data"
    }
   ],
   "source": [
    "# Ascending values (duplicates 1:10)\n",
    "(x3 <- seq(10))\n",
    "\n",
    "# Specify change in values\n",
    "(x4 <- seq(30, 0, by = -3))"
   ]
  },
  {
   "cell_type": "markdown",
   "metadata": {},
   "source": [
    "## ENTER MULTIPLE VALUES WITH C"
   ]
  },
  {
   "cell_type": "code",
   "execution_count": 12,
   "metadata": {
    "vscode": {
     "languageId": "r"
    }
   },
   "outputs": [
    {
     "data": {
      "text/html": [
       "<style>\n",
       ".list-inline {list-style: none; margin:0; padding: 0}\n",
       ".list-inline>li {display: inline-block}\n",
       ".list-inline>li:not(:last-child)::after {content: \"\\00b7\"; padding: 0 .5ex}\n",
       "</style>\n",
       "<ol class=list-inline><li>5</li><li>4</li><li>1</li><li>6</li><li>7</li><li>2</li><li>2</li><li>3</li><li>2</li><li>8</li></ol>\n"
      ],
      "text/latex": [
       "\\begin{enumerate*}\n",
       "\\item 5\n",
       "\\item 4\n",
       "\\item 1\n",
       "\\item 6\n",
       "\\item 7\n",
       "\\item 2\n",
       "\\item 2\n",
       "\\item 3\n",
       "\\item 2\n",
       "\\item 8\n",
       "\\end{enumerate*}\n"
      ],
      "text/markdown": [
       "1. 5\n",
       "2. 4\n",
       "3. 1\n",
       "4. 6\n",
       "5. 7\n",
       "6. 2\n",
       "7. 2\n",
       "8. 3\n",
       "9. 2\n",
       "10. 8\n",
       "\n",
       "\n"
      ],
      "text/plain": [
       " [1] 5 4 1 6 7 2 2 3 2 8"
      ]
     },
     "metadata": {},
     "output_type": "display_data"
    }
   ],
   "source": [
    "x5 <- c(5, 4, 1, 6, 7, 2, 2, 3, 2, 8)\n",
    "x5"
   ]
  },
  {
   "cell_type": "markdown",
   "metadata": {},
   "source": [
    "## SCAN"
   ]
  },
  {
   "cell_type": "code",
   "execution_count": 13,
   "metadata": {
    "vscode": {
     "languageId": "r"
    }
   },
   "outputs": [
    {
     "data": {
      "text/html": [],
      "text/latex": [],
      "text/markdown": [],
      "text/plain": [
       "numeric(0)"
      ]
     },
     "metadata": {},
     "output_type": "display_data"
    }
   ],
   "source": [
    "x6 <- scan()  # After running this command, go to console\n",
    "# Hit return after each number in concole of R\n",
    "# Hit return twice to stop\n",
    "x6"
   ]
  },
  {
   "cell_type": "markdown",
   "metadata": {},
   "source": [
    "## REP"
   ]
  },
  {
   "cell_type": "code",
   "execution_count": 17,
   "metadata": {
    "vscode": {
     "languageId": "r"
    }
   },
   "outputs": [
    {
     "data": {
      "text/html": [
       "<style>\n",
       ".list-inline {list-style: none; margin:0; padding: 0}\n",
       ".list-inline>li {display: inline-block}\n",
       ".list-inline>li:not(:last-child)::after {content: \"\\00b7\"; padding: 0 .5ex}\n",
       "</style>\n",
       "<ol class=list-inline><li>TRUE</li><li>TRUE</li><li>TRUE</li><li>TRUE</li><li>TRUE</li></ol>\n"
      ],
      "text/latex": [
       "\\begin{enumerate*}\n",
       "\\item TRUE\n",
       "\\item TRUE\n",
       "\\item TRUE\n",
       "\\item TRUE\n",
       "\\item TRUE\n",
       "\\end{enumerate*}\n"
      ],
      "text/markdown": [
       "1. TRUE\n",
       "2. TRUE\n",
       "3. TRUE\n",
       "4. TRUE\n",
       "5. TRUE\n",
       "\n",
       "\n"
      ],
      "text/plain": [
       "[1] TRUE TRUE TRUE TRUE TRUE"
      ]
     },
     "metadata": {},
     "output_type": "display_data"
    },
    {
     "data": {
      "text/html": [
       "<style>\n",
       ".list-inline {list-style: none; margin:0; padding: 0}\n",
       ".list-inline>li {display: inline-block}\n",
       ".list-inline>li:not(:last-child)::after {content: \"\\00b7\"; padding: 0 .5ex}\n",
       "</style>\n",
       "<ol class=list-inline><li>TRUE</li><li>FALSE</li><li>TRUE</li><li>FALSE</li><li>TRUE</li><li>FALSE</li><li>TRUE</li><li>FALSE</li><li>TRUE</li><li>FALSE</li></ol>\n"
      ],
      "text/latex": [
       "\\begin{enumerate*}\n",
       "\\item TRUE\n",
       "\\item FALSE\n",
       "\\item TRUE\n",
       "\\item FALSE\n",
       "\\item TRUE\n",
       "\\item FALSE\n",
       "\\item TRUE\n",
       "\\item FALSE\n",
       "\\item TRUE\n",
       "\\item FALSE\n",
       "\\end{enumerate*}\n"
      ],
      "text/markdown": [
       "1. TRUE\n",
       "2. FALSE\n",
       "3. TRUE\n",
       "4. FALSE\n",
       "5. TRUE\n",
       "6. FALSE\n",
       "7. TRUE\n",
       "8. FALSE\n",
       "9. TRUE\n",
       "10. FALSE\n",
       "\n",
       "\n"
      ],
      "text/plain": [
       " [1]  TRUE FALSE  TRUE FALSE  TRUE FALSE  TRUE FALSE  TRUE FALSE"
      ]
     },
     "metadata": {},
     "output_type": "display_data"
    },
    {
     "data": {
      "text/html": [
       "<style>\n",
       ".list-inline {list-style: none; margin:0; padding: 0}\n",
       ".list-inline>li {display: inline-block}\n",
       ".list-inline>li:not(:last-child)::after {content: \"\\00b7\"; padding: 0 .5ex}\n",
       "</style>\n",
       "<ol class=list-inline><li>TRUE</li><li>TRUE</li><li>TRUE</li><li>TRUE</li><li>TRUE</li><li>FALSE</li><li>FALSE</li><li>FALSE</li><li>FALSE</li><li>FALSE</li></ol>\n"
      ],
      "text/latex": [
       "\\begin{enumerate*}\n",
       "\\item TRUE\n",
       "\\item TRUE\n",
       "\\item TRUE\n",
       "\\item TRUE\n",
       "\\item TRUE\n",
       "\\item FALSE\n",
       "\\item FALSE\n",
       "\\item FALSE\n",
       "\\item FALSE\n",
       "\\item FALSE\n",
       "\\end{enumerate*}\n"
      ],
      "text/markdown": [
       "1. TRUE\n",
       "2. TRUE\n",
       "3. TRUE\n",
       "4. TRUE\n",
       "5. TRUE\n",
       "6. FALSE\n",
       "7. FALSE\n",
       "8. FALSE\n",
       "9. FALSE\n",
       "10. FALSE\n",
       "\n",
       "\n"
      ],
      "text/plain": [
       " [1]  TRUE  TRUE  TRUE  TRUE  TRUE FALSE FALSE FALSE FALSE FALSE"
      ]
     },
     "metadata": {},
     "output_type": "display_data"
    }
   ],
   "source": [
    "# repication or repeat\n",
    "x7 <- rep(TRUE, 5)\n",
    "x7\n",
    "# Repeats set\n",
    "x8 <- rep(c(TRUE, FALSE), 5)\n",
    "x8\n",
    "# Repeats items in set\n",
    "x9 <- rep(c(TRUE, FALSE), each = 5)\n",
    "x9"
   ]
  },
  {
   "cell_type": "markdown",
   "metadata": {},
   "source": [
    "# IMPORTING DATA"
   ]
  },
  {
   "cell_type": "markdown",
   "metadata": {},
   "source": [
    "- Build in functions for importing data in formats of CSV, TXT, XLSX, JSON"
   ]
  },
  {
   "cell_type": "code",
   "execution_count": 1,
   "metadata": {
    "vscode": {
     "languageId": "r"
    }
   },
   "outputs": [
    {
     "name": "stderr",
     "output_type": "stream",
     "text": [
      "Loading required package: rio\n",
      "\n"
     ]
    }
   ],
   "source": [
    "library(datasets)  # Load base packages manually\n",
    "require(rio)"
   ]
  },
  {
   "cell_type": "markdown",
   "metadata": {},
   "source": [
    "## IMPORTING WITH RIO"
   ]
  },
  {
   "cell_type": "code",
   "execution_count": 3,
   "metadata": {
    "vscode": {
     "languageId": "r"
    }
   },
   "outputs": [
    {
     "data": {
      "text/html": [
       "<table class=\"dataframe\">\n",
       "<caption>A data.frame: 6 × 4</caption>\n",
       "<thead>\n",
       "\t<tr><th></th><th scope=col>Month</th><th scope=col>Mozart</th><th scope=col>Beethoven</th><th scope=col>Bach</th></tr>\n",
       "\t<tr><th></th><th scope=col>&lt;chr&gt;</th><th scope=col>&lt;int&gt;</th><th scope=col>&lt;int&gt;</th><th scope=col>&lt;int&gt;</th></tr>\n",
       "</thead>\n",
       "<tbody>\n",
       "\t<tr><th scope=row>1</th><td>2004-01</td><td>12</td><td>8</td><td>15</td></tr>\n",
       "\t<tr><th scope=row>2</th><td>2004-02</td><td>12</td><td>9</td><td>15</td></tr>\n",
       "\t<tr><th scope=row>3</th><td>2004-03</td><td>12</td><td>9</td><td>14</td></tr>\n",
       "\t<tr><th scope=row>4</th><td>2004-04</td><td>12</td><td>8</td><td>14</td></tr>\n",
       "\t<tr><th scope=row>5</th><td>2004-05</td><td>11</td><td>9</td><td>13</td></tr>\n",
       "\t<tr><th scope=row>6</th><td>2004-06</td><td> 9</td><td>7</td><td>12</td></tr>\n",
       "</tbody>\n",
       "</table>\n"
      ],
      "text/latex": [
       "A data.frame: 6 × 4\n",
       "\\begin{tabular}{r|llll}\n",
       "  & Month & Mozart & Beethoven & Bach\\\\\n",
       "  & <chr> & <int> & <int> & <int>\\\\\n",
       "\\hline\n",
       "\t1 & 2004-01 & 12 & 8 & 15\\\\\n",
       "\t2 & 2004-02 & 12 & 9 & 15\\\\\n",
       "\t3 & 2004-03 & 12 & 9 & 14\\\\\n",
       "\t4 & 2004-04 & 12 & 8 & 14\\\\\n",
       "\t5 & 2004-05 & 11 & 9 & 13\\\\\n",
       "\t6 & 2004-06 &  9 & 7 & 12\\\\\n",
       "\\end{tabular}\n"
      ],
      "text/markdown": [
       "\n",
       "A data.frame: 6 × 4\n",
       "\n",
       "| <!--/--> | Month &lt;chr&gt; | Mozart &lt;int&gt; | Beethoven &lt;int&gt; | Bach &lt;int&gt; |\n",
       "|---|---|---|---|---|\n",
       "| 1 | 2004-01 | 12 | 8 | 15 |\n",
       "| 2 | 2004-02 | 12 | 9 | 15 |\n",
       "| 3 | 2004-03 | 12 | 9 | 14 |\n",
       "| 4 | 2004-04 | 12 | 8 | 14 |\n",
       "| 5 | 2004-05 | 11 | 9 | 13 |\n",
       "| 6 | 2004-06 |  9 | 7 | 12 |\n",
       "\n"
      ],
      "text/plain": [
       "  Month   Mozart Beethoven Bach\n",
       "1 2004-01 12     8         15  \n",
       "2 2004-02 12     9         15  \n",
       "3 2004-03 12     9         14  \n",
       "4 2004-04 12     8         14  \n",
       "5 2004-05 11     9         13  \n",
       "6 2004-06  9     7         12  "
      ]
     },
     "metadata": {},
     "output_type": "display_data"
    }
   ],
   "source": [
    "# CSV\n",
    "rio_csv <- import(\"../CourseFiles/ImportingData_Datasets/mbb.csv\")\n",
    "head(rio_csv)"
   ]
  },
  {
   "cell_type": "code",
   "execution_count": 4,
   "metadata": {
    "vscode": {
     "languageId": "r"
    }
   },
   "outputs": [
    {
     "data": {
      "text/html": [
       "<table class=\"dataframe\">\n",
       "<caption>A data.frame: 6 × 4</caption>\n",
       "<thead>\n",
       "\t<tr><th></th><th scope=col>Month</th><th scope=col>Mozart</th><th scope=col>Beethoven</th><th scope=col>Bach</th></tr>\n",
       "\t<tr><th></th><th scope=col>&lt;chr&gt;</th><th scope=col>&lt;int&gt;</th><th scope=col>&lt;int&gt;</th><th scope=col>&lt;int&gt;</th></tr>\n",
       "</thead>\n",
       "<tbody>\n",
       "\t<tr><th scope=row>1</th><td>2004-01</td><td>12</td><td>8</td><td>15</td></tr>\n",
       "\t<tr><th scope=row>2</th><td>2004-02</td><td>12</td><td>9</td><td>15</td></tr>\n",
       "\t<tr><th scope=row>3</th><td>2004-03</td><td>12</td><td>9</td><td>14</td></tr>\n",
       "\t<tr><th scope=row>4</th><td>2004-04</td><td>12</td><td>8</td><td>14</td></tr>\n",
       "\t<tr><th scope=row>5</th><td>2004-05</td><td>11</td><td>9</td><td>13</td></tr>\n",
       "\t<tr><th scope=row>6</th><td>2004-06</td><td> 9</td><td>7</td><td>12</td></tr>\n",
       "</tbody>\n",
       "</table>\n"
      ],
      "text/latex": [
       "A data.frame: 6 × 4\n",
       "\\begin{tabular}{r|llll}\n",
       "  & Month & Mozart & Beethoven & Bach\\\\\n",
       "  & <chr> & <int> & <int> & <int>\\\\\n",
       "\\hline\n",
       "\t1 & 2004-01 & 12 & 8 & 15\\\\\n",
       "\t2 & 2004-02 & 12 & 9 & 15\\\\\n",
       "\t3 & 2004-03 & 12 & 9 & 14\\\\\n",
       "\t4 & 2004-04 & 12 & 8 & 14\\\\\n",
       "\t5 & 2004-05 & 11 & 9 & 13\\\\\n",
       "\t6 & 2004-06 &  9 & 7 & 12\\\\\n",
       "\\end{tabular}\n"
      ],
      "text/markdown": [
       "\n",
       "A data.frame: 6 × 4\n",
       "\n",
       "| <!--/--> | Month &lt;chr&gt; | Mozart &lt;int&gt; | Beethoven &lt;int&gt; | Bach &lt;int&gt; |\n",
       "|---|---|---|---|---|\n",
       "| 1 | 2004-01 | 12 | 8 | 15 |\n",
       "| 2 | 2004-02 | 12 | 9 | 15 |\n",
       "| 3 | 2004-03 | 12 | 9 | 14 |\n",
       "| 4 | 2004-04 | 12 | 8 | 14 |\n",
       "| 5 | 2004-05 | 11 | 9 | 13 |\n",
       "| 6 | 2004-06 |  9 | 7 | 12 |\n",
       "\n"
      ],
      "text/plain": [
       "  Month   Mozart Beethoven Bach\n",
       "1 2004-01 12     8         15  \n",
       "2 2004-02 12     9         15  \n",
       "3 2004-03 12     9         14  \n",
       "4 2004-04 12     8         14  \n",
       "5 2004-05 11     9         13  \n",
       "6 2004-06  9     7         12  "
      ]
     },
     "metadata": {},
     "output_type": "display_data"
    }
   ],
   "source": [
    "# TXT\n",
    "rio_txt <- import(\"../CourseFiles/ImportingData_Datasets/mbb.txt\")\n",
    "head(rio_txt)"
   ]
  },
  {
   "cell_type": "code",
   "execution_count": 5,
   "metadata": {
    "vscode": {
     "languageId": "r"
    }
   },
   "outputs": [
    {
     "data": {
      "text/html": [
       "<table class=\"dataframe\">\n",
       "<caption>A data.frame: 6 × 4</caption>\n",
       "<thead>\n",
       "\t<tr><th></th><th scope=col>Month</th><th scope=col>Mozart</th><th scope=col>Beethoven</th><th scope=col>Bach</th></tr>\n",
       "\t<tr><th></th><th scope=col>&lt;chr&gt;</th><th scope=col>&lt;dbl&gt;</th><th scope=col>&lt;dbl&gt;</th><th scope=col>&lt;dbl&gt;</th></tr>\n",
       "</thead>\n",
       "<tbody>\n",
       "\t<tr><th scope=row>1</th><td>2004-01</td><td>12</td><td>8</td><td>15</td></tr>\n",
       "\t<tr><th scope=row>2</th><td>2004-02</td><td>12</td><td>9</td><td>15</td></tr>\n",
       "\t<tr><th scope=row>3</th><td>2004-03</td><td>12</td><td>9</td><td>14</td></tr>\n",
       "\t<tr><th scope=row>4</th><td>2004-04</td><td>12</td><td>8</td><td>14</td></tr>\n",
       "\t<tr><th scope=row>5</th><td>2004-05</td><td>11</td><td>9</td><td>13</td></tr>\n",
       "\t<tr><th scope=row>6</th><td>2004-06</td><td> 9</td><td>7</td><td>12</td></tr>\n",
       "</tbody>\n",
       "</table>\n"
      ],
      "text/latex": [
       "A data.frame: 6 × 4\n",
       "\\begin{tabular}{r|llll}\n",
       "  & Month & Mozart & Beethoven & Bach\\\\\n",
       "  & <chr> & <dbl> & <dbl> & <dbl>\\\\\n",
       "\\hline\n",
       "\t1 & 2004-01 & 12 & 8 & 15\\\\\n",
       "\t2 & 2004-02 & 12 & 9 & 15\\\\\n",
       "\t3 & 2004-03 & 12 & 9 & 14\\\\\n",
       "\t4 & 2004-04 & 12 & 8 & 14\\\\\n",
       "\t5 & 2004-05 & 11 & 9 & 13\\\\\n",
       "\t6 & 2004-06 &  9 & 7 & 12\\\\\n",
       "\\end{tabular}\n"
      ],
      "text/markdown": [
       "\n",
       "A data.frame: 6 × 4\n",
       "\n",
       "| <!--/--> | Month &lt;chr&gt; | Mozart &lt;dbl&gt; | Beethoven &lt;dbl&gt; | Bach &lt;dbl&gt; |\n",
       "|---|---|---|---|---|\n",
       "| 1 | 2004-01 | 12 | 8 | 15 |\n",
       "| 2 | 2004-02 | 12 | 9 | 15 |\n",
       "| 3 | 2004-03 | 12 | 9 | 14 |\n",
       "| 4 | 2004-04 | 12 | 8 | 14 |\n",
       "| 5 | 2004-05 | 11 | 9 | 13 |\n",
       "| 6 | 2004-06 |  9 | 7 | 12 |\n",
       "\n"
      ],
      "text/plain": [
       "  Month   Mozart Beethoven Bach\n",
       "1 2004-01 12     8         15  \n",
       "2 2004-02 12     9         15  \n",
       "3 2004-03 12     9         14  \n",
       "4 2004-04 12     8         14  \n",
       "5 2004-05 11     9         13  \n",
       "6 2004-06  9     7         12  "
      ]
     },
     "metadata": {},
     "output_type": "display_data"
    }
   ],
   "source": [
    "# Excel XLSX\n",
    "rio_xlsx <- import(\"../CourseFiles/ImportingData_Datasets/mbb.xlsx\")\n",
    "head(rio_xlsx)"
   ]
  },
  {
   "cell_type": "markdown",
   "metadata": {},
   "source": [
    "## DATA VIEWER"
   ]
  },
  {
   "cell_type": "code",
   "execution_count": 6,
   "metadata": {
    "vscode": {
     "languageId": "r"
    }
   },
   "outputs": [
    {
     "data": {
      "text/html": [
       "<table class=\"dataframe\">\n",
       "<caption>A data.frame: 152 × 4</caption>\n",
       "<thead>\n",
       "\t<tr><th></th><th scope=col>Month</th><th scope=col>Mozart</th><th scope=col>Beethoven</th><th scope=col>Bach</th></tr>\n",
       "\t<tr><th></th><th scope=col>&lt;chr&gt;</th><th scope=col>&lt;int&gt;</th><th scope=col>&lt;int&gt;</th><th scope=col>&lt;int&gt;</th></tr>\n",
       "</thead>\n",
       "<tbody>\n",
       "\t<tr><th scope=row>1</th><td>2004-01</td><td> 12</td><td>8</td><td>15</td></tr>\n",
       "\t<tr><th scope=row>2</th><td>2004-02</td><td> 12</td><td>9</td><td>15</td></tr>\n",
       "\t<tr><th scope=row>3</th><td>2004-03</td><td> 12</td><td>9</td><td>14</td></tr>\n",
       "\t<tr><th scope=row>4</th><td>2004-04</td><td> 12</td><td>8</td><td>14</td></tr>\n",
       "\t<tr><th scope=row>5</th><td>2004-05</td><td> 11</td><td>9</td><td>13</td></tr>\n",
       "\t<tr><th scope=row>6</th><td>2004-06</td><td>  9</td><td>7</td><td>12</td></tr>\n",
       "\t<tr><th scope=row>7</th><td>2004-07</td><td>  7</td><td>5</td><td>11</td></tr>\n",
       "\t<tr><th scope=row>8</th><td>2004-08</td><td>  7</td><td>6</td><td>11</td></tr>\n",
       "\t<tr><th scope=row>9</th><td>2004-09</td><td>  9</td><td>7</td><td>12</td></tr>\n",
       "\t<tr><th scope=row>10</th><td>2004-10</td><td> 11</td><td>8</td><td>13</td></tr>\n",
       "\t<tr><th scope=row>11</th><td>2004-11</td><td> 11</td><td>8</td><td>14</td></tr>\n",
       "\t<tr><th scope=row>12</th><td>2004-12</td><td> 10</td><td>8</td><td>13</td></tr>\n",
       "\t<tr><th scope=row>13</th><td>2005-01</td><td> 11</td><td>8</td><td>13</td></tr>\n",
       "\t<tr><th scope=row>14</th><td>2005-02</td><td> 11</td><td>8</td><td>16</td></tr>\n",
       "\t<tr><th scope=row>15</th><td>2005-03</td><td> 10</td><td>8</td><td>13</td></tr>\n",
       "\t<tr><th scope=row>16</th><td>2005-04</td><td> 11</td><td>8</td><td>13</td></tr>\n",
       "\t<tr><th scope=row>17</th><td>2005-05</td><td> 11</td><td>8</td><td>12</td></tr>\n",
       "\t<tr><th scope=row>18</th><td>2005-06</td><td>  9</td><td>7</td><td>12</td></tr>\n",
       "\t<tr><th scope=row>19</th><td>2005-07</td><td>  7</td><td>5</td><td>11</td></tr>\n",
       "\t<tr><th scope=row>20</th><td>2005-08</td><td>  7</td><td>5</td><td>12</td></tr>\n",
       "\t<tr><th scope=row>21</th><td>2005-09</td><td>  9</td><td>6</td><td>11</td></tr>\n",
       "\t<tr><th scope=row>22</th><td>2005-10</td><td> 10</td><td>7</td><td>12</td></tr>\n",
       "\t<tr><th scope=row>23</th><td>2005-11</td><td> 11</td><td>7</td><td>12</td></tr>\n",
       "\t<tr><th scope=row>24</th><td>2005-12</td><td> 11</td><td>7</td><td>12</td></tr>\n",
       "\t<tr><th scope=row>25</th><td>2006-01</td><td>100</td><td>7</td><td>13</td></tr>\n",
       "\t<tr><th scope=row>26</th><td>2006-02</td><td> 25</td><td>7</td><td>12</td></tr>\n",
       "\t<tr><th scope=row>27</th><td>2006-03</td><td> 19</td><td>7</td><td>14</td></tr>\n",
       "\t<tr><th scope=row>28</th><td>2006-04</td><td> 14</td><td>6</td><td>12</td></tr>\n",
       "\t<tr><th scope=row>29</th><td>2006-05</td><td> 15</td><td>7</td><td>12</td></tr>\n",
       "\t<tr><th scope=row>30</th><td>2006-06</td><td> 11</td><td>5</td><td>11</td></tr>\n",
       "\t<tr><th scope=row>...</th><td>...</td><td>...</td><td>...</td><td>...</td></tr>\n",
       "\t<tr><th scope=row>123</th><td>2014-03</td><td>6</td><td> 4</td><td>10</td></tr>\n",
       "\t<tr><th scope=row>124</th><td>2014-04</td><td>6</td><td> 4</td><td>10</td></tr>\n",
       "\t<tr><th scope=row>125</th><td>2014-05</td><td>6</td><td> 5</td><td> 9</td></tr>\n",
       "\t<tr><th scope=row>126</th><td>2014-06</td><td>5</td><td> 4</td><td> 9</td></tr>\n",
       "\t<tr><th scope=row>127</th><td>2014-07</td><td>5</td><td> 3</td><td> 9</td></tr>\n",
       "\t<tr><th scope=row>128</th><td>2014-08</td><td>5</td><td> 4</td><td> 9</td></tr>\n",
       "\t<tr><th scope=row>129</th><td>2014-09</td><td>5</td><td> 4</td><td> 9</td></tr>\n",
       "\t<tr><th scope=row>130</th><td>2014-10</td><td>6</td><td> 4</td><td> 9</td></tr>\n",
       "\t<tr><th scope=row>131</th><td>2014-11</td><td>6</td><td> 5</td><td> 9</td></tr>\n",
       "\t<tr><th scope=row>132</th><td>2014-12</td><td>6</td><td> 4</td><td> 9</td></tr>\n",
       "\t<tr><th scope=row>133</th><td>2015-01</td><td>7</td><td> 4</td><td>10</td></tr>\n",
       "\t<tr><th scope=row>134</th><td>2015-02</td><td>6</td><td> 4</td><td>10</td></tr>\n",
       "\t<tr><th scope=row>135</th><td>2015-03</td><td>6</td><td> 4</td><td>10</td></tr>\n",
       "\t<tr><th scope=row>136</th><td>2015-04</td><td>6</td><td> 4</td><td>10</td></tr>\n",
       "\t<tr><th scope=row>137</th><td>2015-05</td><td>6</td><td> 4</td><td>10</td></tr>\n",
       "\t<tr><th scope=row>138</th><td>2015-06</td><td>5</td><td> 4</td><td> 9</td></tr>\n",
       "\t<tr><th scope=row>139</th><td>2015-07</td><td>4</td><td> 3</td><td> 9</td></tr>\n",
       "\t<tr><th scope=row>140</th><td>2015-08</td><td>5</td><td> 3</td><td>10</td></tr>\n",
       "\t<tr><th scope=row>141</th><td>2015-09</td><td>5</td><td> 4</td><td> 9</td></tr>\n",
       "\t<tr><th scope=row>142</th><td>2015-10</td><td>5</td><td> 4</td><td> 9</td></tr>\n",
       "\t<tr><th scope=row>143</th><td>2015-11</td><td>5</td><td> 4</td><td> 9</td></tr>\n",
       "\t<tr><th scope=row>144</th><td>2015-12</td><td>6</td><td>10</td><td> 9</td></tr>\n",
       "\t<tr><th scope=row>145</th><td>2016-01</td><td>9</td><td> 4</td><td> 9</td></tr>\n",
       "\t<tr><th scope=row>146</th><td>2016-02</td><td>6</td><td> 4</td><td> 8</td></tr>\n",
       "\t<tr><th scope=row>147</th><td>2016-03</td><td>6</td><td> 4</td><td>10</td></tr>\n",
       "\t<tr><th scope=row>148</th><td>2016-04</td><td>5</td><td> 4</td><td>10</td></tr>\n",
       "\t<tr><th scope=row>149</th><td>2016-05</td><td>5</td><td> 4</td><td> 9</td></tr>\n",
       "\t<tr><th scope=row>150</th><td>2016-06</td><td>5</td><td> 3</td><td> 8</td></tr>\n",
       "\t<tr><th scope=row>151</th><td>2016-07</td><td>4</td><td> 3</td><td> 9</td></tr>\n",
       "\t<tr><th scope=row>152</th><td>       </td><td>4</td><td> 3</td><td> 9</td></tr>\n",
       "</tbody>\n",
       "</table>\n"
      ],
      "text/latex": [
       "A data.frame: 152 × 4\n",
       "\\begin{tabular}{r|llll}\n",
       "  & Month & Mozart & Beethoven & Bach\\\\\n",
       "  & <chr> & <int> & <int> & <int>\\\\\n",
       "\\hline\n",
       "\t1 & 2004-01 &  12 & 8 & 15\\\\\n",
       "\t2 & 2004-02 &  12 & 9 & 15\\\\\n",
       "\t3 & 2004-03 &  12 & 9 & 14\\\\\n",
       "\t4 & 2004-04 &  12 & 8 & 14\\\\\n",
       "\t5 & 2004-05 &  11 & 9 & 13\\\\\n",
       "\t6 & 2004-06 &   9 & 7 & 12\\\\\n",
       "\t7 & 2004-07 &   7 & 5 & 11\\\\\n",
       "\t8 & 2004-08 &   7 & 6 & 11\\\\\n",
       "\t9 & 2004-09 &   9 & 7 & 12\\\\\n",
       "\t10 & 2004-10 &  11 & 8 & 13\\\\\n",
       "\t11 & 2004-11 &  11 & 8 & 14\\\\\n",
       "\t12 & 2004-12 &  10 & 8 & 13\\\\\n",
       "\t13 & 2005-01 &  11 & 8 & 13\\\\\n",
       "\t14 & 2005-02 &  11 & 8 & 16\\\\\n",
       "\t15 & 2005-03 &  10 & 8 & 13\\\\\n",
       "\t16 & 2005-04 &  11 & 8 & 13\\\\\n",
       "\t17 & 2005-05 &  11 & 8 & 12\\\\\n",
       "\t18 & 2005-06 &   9 & 7 & 12\\\\\n",
       "\t19 & 2005-07 &   7 & 5 & 11\\\\\n",
       "\t20 & 2005-08 &   7 & 5 & 12\\\\\n",
       "\t21 & 2005-09 &   9 & 6 & 11\\\\\n",
       "\t22 & 2005-10 &  10 & 7 & 12\\\\\n",
       "\t23 & 2005-11 &  11 & 7 & 12\\\\\n",
       "\t24 & 2005-12 &  11 & 7 & 12\\\\\n",
       "\t25 & 2006-01 & 100 & 7 & 13\\\\\n",
       "\t26 & 2006-02 &  25 & 7 & 12\\\\\n",
       "\t27 & 2006-03 &  19 & 7 & 14\\\\\n",
       "\t28 & 2006-04 &  14 & 6 & 12\\\\\n",
       "\t29 & 2006-05 &  15 & 7 & 12\\\\\n",
       "\t30 & 2006-06 &  11 & 5 & 11\\\\\n",
       "\t... & ... & ... & ... & ...\\\\\n",
       "\t123 & 2014-03 & 6 &  4 & 10\\\\\n",
       "\t124 & 2014-04 & 6 &  4 & 10\\\\\n",
       "\t125 & 2014-05 & 6 &  5 &  9\\\\\n",
       "\t126 & 2014-06 & 5 &  4 &  9\\\\\n",
       "\t127 & 2014-07 & 5 &  3 &  9\\\\\n",
       "\t128 & 2014-08 & 5 &  4 &  9\\\\\n",
       "\t129 & 2014-09 & 5 &  4 &  9\\\\\n",
       "\t130 & 2014-10 & 6 &  4 &  9\\\\\n",
       "\t131 & 2014-11 & 6 &  5 &  9\\\\\n",
       "\t132 & 2014-12 & 6 &  4 &  9\\\\\n",
       "\t133 & 2015-01 & 7 &  4 & 10\\\\\n",
       "\t134 & 2015-02 & 6 &  4 & 10\\\\\n",
       "\t135 & 2015-03 & 6 &  4 & 10\\\\\n",
       "\t136 & 2015-04 & 6 &  4 & 10\\\\\n",
       "\t137 & 2015-05 & 6 &  4 & 10\\\\\n",
       "\t138 & 2015-06 & 5 &  4 &  9\\\\\n",
       "\t139 & 2015-07 & 4 &  3 &  9\\\\\n",
       "\t140 & 2015-08 & 5 &  3 & 10\\\\\n",
       "\t141 & 2015-09 & 5 &  4 &  9\\\\\n",
       "\t142 & 2015-10 & 5 &  4 &  9\\\\\n",
       "\t143 & 2015-11 & 5 &  4 &  9\\\\\n",
       "\t144 & 2015-12 & 6 & 10 &  9\\\\\n",
       "\t145 & 2016-01 & 9 &  4 &  9\\\\\n",
       "\t146 & 2016-02 & 6 &  4 &  8\\\\\n",
       "\t147 & 2016-03 & 6 &  4 & 10\\\\\n",
       "\t148 & 2016-04 & 5 &  4 & 10\\\\\n",
       "\t149 & 2016-05 & 5 &  4 &  9\\\\\n",
       "\t150 & 2016-06 & 5 &  3 &  8\\\\\n",
       "\t151 & 2016-07 & 4 &  3 &  9\\\\\n",
       "\t152 &         & 4 &  3 &  9\\\\\n",
       "\\end{tabular}\n"
      ],
      "text/markdown": [
       "\n",
       "A data.frame: 152 × 4\n",
       "\n",
       "| <!--/--> | Month &lt;chr&gt; | Mozart &lt;int&gt; | Beethoven &lt;int&gt; | Bach &lt;int&gt; |\n",
       "|---|---|---|---|---|\n",
       "| 1 | 2004-01 |  12 | 8 | 15 |\n",
       "| 2 | 2004-02 |  12 | 9 | 15 |\n",
       "| 3 | 2004-03 |  12 | 9 | 14 |\n",
       "| 4 | 2004-04 |  12 | 8 | 14 |\n",
       "| 5 | 2004-05 |  11 | 9 | 13 |\n",
       "| 6 | 2004-06 |   9 | 7 | 12 |\n",
       "| 7 | 2004-07 |   7 | 5 | 11 |\n",
       "| 8 | 2004-08 |   7 | 6 | 11 |\n",
       "| 9 | 2004-09 |   9 | 7 | 12 |\n",
       "| 10 | 2004-10 |  11 | 8 | 13 |\n",
       "| 11 | 2004-11 |  11 | 8 | 14 |\n",
       "| 12 | 2004-12 |  10 | 8 | 13 |\n",
       "| 13 | 2005-01 |  11 | 8 | 13 |\n",
       "| 14 | 2005-02 |  11 | 8 | 16 |\n",
       "| 15 | 2005-03 |  10 | 8 | 13 |\n",
       "| 16 | 2005-04 |  11 | 8 | 13 |\n",
       "| 17 | 2005-05 |  11 | 8 | 12 |\n",
       "| 18 | 2005-06 |   9 | 7 | 12 |\n",
       "| 19 | 2005-07 |   7 | 5 | 11 |\n",
       "| 20 | 2005-08 |   7 | 5 | 12 |\n",
       "| 21 | 2005-09 |   9 | 6 | 11 |\n",
       "| 22 | 2005-10 |  10 | 7 | 12 |\n",
       "| 23 | 2005-11 |  11 | 7 | 12 |\n",
       "| 24 | 2005-12 |  11 | 7 | 12 |\n",
       "| 25 | 2006-01 | 100 | 7 | 13 |\n",
       "| 26 | 2006-02 |  25 | 7 | 12 |\n",
       "| 27 | 2006-03 |  19 | 7 | 14 |\n",
       "| 28 | 2006-04 |  14 | 6 | 12 |\n",
       "| 29 | 2006-05 |  15 | 7 | 12 |\n",
       "| 30 | 2006-06 |  11 | 5 | 11 |\n",
       "| ... | ... | ... | ... | ... |\n",
       "| 123 | 2014-03 | 6 |  4 | 10 |\n",
       "| 124 | 2014-04 | 6 |  4 | 10 |\n",
       "| 125 | 2014-05 | 6 |  5 |  9 |\n",
       "| 126 | 2014-06 | 5 |  4 |  9 |\n",
       "| 127 | 2014-07 | 5 |  3 |  9 |\n",
       "| 128 | 2014-08 | 5 |  4 |  9 |\n",
       "| 129 | 2014-09 | 5 |  4 |  9 |\n",
       "| 130 | 2014-10 | 6 |  4 |  9 |\n",
       "| 131 | 2014-11 | 6 |  5 |  9 |\n",
       "| 132 | 2014-12 | 6 |  4 |  9 |\n",
       "| 133 | 2015-01 | 7 |  4 | 10 |\n",
       "| 134 | 2015-02 | 6 |  4 | 10 |\n",
       "| 135 | 2015-03 | 6 |  4 | 10 |\n",
       "| 136 | 2015-04 | 6 |  4 | 10 |\n",
       "| 137 | 2015-05 | 6 |  4 | 10 |\n",
       "| 138 | 2015-06 | 5 |  4 |  9 |\n",
       "| 139 | 2015-07 | 4 |  3 |  9 |\n",
       "| 140 | 2015-08 | 5 |  3 | 10 |\n",
       "| 141 | 2015-09 | 5 |  4 |  9 |\n",
       "| 142 | 2015-10 | 5 |  4 |  9 |\n",
       "| 143 | 2015-11 | 5 |  4 |  9 |\n",
       "| 144 | 2015-12 | 6 | 10 |  9 |\n",
       "| 145 | 2016-01 | 9 |  4 |  9 |\n",
       "| 146 | 2016-02 | 6 |  4 |  8 |\n",
       "| 147 | 2016-03 | 6 |  4 | 10 |\n",
       "| 148 | 2016-04 | 5 |  4 | 10 |\n",
       "| 149 | 2016-05 | 5 |  4 |  9 |\n",
       "| 150 | 2016-06 | 5 |  3 |  8 |\n",
       "| 151 | 2016-07 | 4 |  3 |  9 |\n",
       "| 152 | <!----> | 4 |  3 |  9 |\n",
       "\n"
      ],
      "text/plain": [
       "    Month   Mozart Beethoven Bach\n",
       "1   2004-01  12    8         15  \n",
       "2   2004-02  12    9         15  \n",
       "3   2004-03  12    9         14  \n",
       "4   2004-04  12    8         14  \n",
       "5   2004-05  11    9         13  \n",
       "6   2004-06   9    7         12  \n",
       "7   2004-07   7    5         11  \n",
       "8   2004-08   7    6         11  \n",
       "9   2004-09   9    7         12  \n",
       "10  2004-10  11    8         13  \n",
       "11  2004-11  11    8         14  \n",
       "12  2004-12  10    8         13  \n",
       "13  2005-01  11    8         13  \n",
       "14  2005-02  11    8         16  \n",
       "15  2005-03  10    8         13  \n",
       "16  2005-04  11    8         13  \n",
       "17  2005-05  11    8         12  \n",
       "18  2005-06   9    7         12  \n",
       "19  2005-07   7    5         11  \n",
       "20  2005-08   7    5         12  \n",
       "21  2005-09   9    6         11  \n",
       "22  2005-10  10    7         12  \n",
       "23  2005-11  11    7         12  \n",
       "24  2005-12  11    7         12  \n",
       "25  2006-01 100    7         13  \n",
       "26  2006-02  25    7         12  \n",
       "27  2006-03  19    7         14  \n",
       "28  2006-04  14    6         12  \n",
       "29  2006-05  15    7         12  \n",
       "30  2006-06  11    5         11  \n",
       "... ...     ...    ...       ... \n",
       "123 2014-03 6       4        10  \n",
       "124 2014-04 6       4        10  \n",
       "125 2014-05 6       5         9  \n",
       "126 2014-06 5       4         9  \n",
       "127 2014-07 5       3         9  \n",
       "128 2014-08 5       4         9  \n",
       "129 2014-09 5       4         9  \n",
       "130 2014-10 6       4         9  \n",
       "131 2014-11 6       5         9  \n",
       "132 2014-12 6       4         9  \n",
       "133 2015-01 7       4        10  \n",
       "134 2015-02 6       4        10  \n",
       "135 2015-03 6       4        10  \n",
       "136 2015-04 6       4        10  \n",
       "137 2015-05 6       4        10  \n",
       "138 2015-06 5       4         9  \n",
       "139 2015-07 4       3         9  \n",
       "140 2015-08 5       3        10  \n",
       "141 2015-09 5       4         9  \n",
       "142 2015-10 5       4         9  \n",
       "143 2015-11 5       4         9  \n",
       "144 2015-12 6      10         9  \n",
       "145 2016-01 9       4         9  \n",
       "146 2016-02 6       4         8  \n",
       "147 2016-03 6       4        10  \n",
       "148 2016-04 5       4        10  \n",
       "149 2016-05 5       4         9  \n",
       "150 2016-06 5       3         8  \n",
       "151 2016-07 4       3         9  \n",
       "152         4       3         9  "
      ]
     },
     "metadata": {},
     "output_type": "display_data"
    }
   ],
   "source": [
    "View(rio_csv)"
   ]
  },
  {
   "cell_type": "code",
   "execution_count": 9,
   "metadata": {
    "vscode": {
     "languageId": "r"
    }
   },
   "outputs": [
    {
     "name": "stderr",
     "output_type": "stream",
     "text": [
      "Warning message in scan(file = file, what = what, sep = sep, quote = quote, dec = dec, :\n",
      "\"number of items read is not a multiple of the number of columns\"\n"
     ]
    },
    {
     "data": {
      "text/html": [
       "<table class=\"dataframe\">\n",
       "<caption>A data.frame: 6 × 4</caption>\n",
       "<thead>\n",
       "\t<tr><th></th><th scope=col>Month</th><th scope=col>Mozart</th><th scope=col>Beethoven</th><th scope=col>Bach</th></tr>\n",
       "\t<tr><th></th><th scope=col>&lt;chr&gt;</th><th scope=col>&lt;int&gt;</th><th scope=col>&lt;int&gt;</th><th scope=col>&lt;int&gt;</th></tr>\n",
       "</thead>\n",
       "<tbody>\n",
       "\t<tr><th scope=row>1</th><td>2004-01</td><td>12</td><td>8</td><td>15</td></tr>\n",
       "\t<tr><th scope=row>2</th><td>2004-02</td><td>12</td><td>9</td><td>15</td></tr>\n",
       "\t<tr><th scope=row>3</th><td>2004-03</td><td>12</td><td>9</td><td>14</td></tr>\n",
       "\t<tr><th scope=row>4</th><td>2004-04</td><td>12</td><td>8</td><td>14</td></tr>\n",
       "\t<tr><th scope=row>5</th><td>2004-05</td><td>11</td><td>9</td><td>13</td></tr>\n",
       "\t<tr><th scope=row>6</th><td>2004-06</td><td> 9</td><td>7</td><td>12</td></tr>\n",
       "</tbody>\n",
       "</table>\n"
      ],
      "text/latex": [
       "A data.frame: 6 × 4\n",
       "\\begin{tabular}{r|llll}\n",
       "  & Month & Mozart & Beethoven & Bach\\\\\n",
       "  & <chr> & <int> & <int> & <int>\\\\\n",
       "\\hline\n",
       "\t1 & 2004-01 & 12 & 8 & 15\\\\\n",
       "\t2 & 2004-02 & 12 & 9 & 15\\\\\n",
       "\t3 & 2004-03 & 12 & 9 & 14\\\\\n",
       "\t4 & 2004-04 & 12 & 8 & 14\\\\\n",
       "\t5 & 2004-05 & 11 & 9 & 13\\\\\n",
       "\t6 & 2004-06 &  9 & 7 & 12\\\\\n",
       "\\end{tabular}\n"
      ],
      "text/markdown": [
       "\n",
       "A data.frame: 6 × 4\n",
       "\n",
       "| <!--/--> | Month &lt;chr&gt; | Mozart &lt;int&gt; | Beethoven &lt;int&gt; | Bach &lt;int&gt; |\n",
       "|---|---|---|---|---|\n",
       "| 1 | 2004-01 | 12 | 8 | 15 |\n",
       "| 2 | 2004-02 | 12 | 9 | 15 |\n",
       "| 3 | 2004-03 | 12 | 9 | 14 |\n",
       "| 4 | 2004-04 | 12 | 8 | 14 |\n",
       "| 5 | 2004-05 | 11 | 9 | 13 |\n",
       "| 6 | 2004-06 |  9 | 7 | 12 |\n",
       "\n"
      ],
      "text/plain": [
       "  Month   Mozart Beethoven Bach\n",
       "1 2004-01 12     8         15  \n",
       "2 2004-02 12     9         15  \n",
       "3 2004-03 12     9         14  \n",
       "4 2004-04 12     8         14  \n",
       "5 2004-05 11     9         13  \n",
       "6 2004-06  9     7         12  "
      ]
     },
     "metadata": {},
     "output_type": "display_data"
    }
   ],
   "source": [
    "# TEXT FILES\n",
    "\n",
    "# Load a spreadsheet that has been saved as tab-delimited\n",
    "# text file. Need to give complete address to file. This\n",
    "# command gives an error on missing data but works on\n",
    "# complete data.\n",
    "r_txt1 <- read.table(\"../CourseFiles/ImportingData_Datasets/mbb.txt\", \n",
    "    header = TRUE)\n",
    "head(r_txt1)"
   ]
  },
  {
   "cell_type": "code",
   "execution_count": 10,
   "metadata": {
    "vscode": {
     "languageId": "r"
    }
   },
   "outputs": [
    {
     "data": {
      "text/html": [
       "<table class=\"dataframe\">\n",
       "<caption>A data.frame: 6 × 4</caption>\n",
       "<thead>\n",
       "\t<tr><th></th><th scope=col>Month</th><th scope=col>Mozart</th><th scope=col>Beethoven</th><th scope=col>Bach</th></tr>\n",
       "\t<tr><th></th><th scope=col>&lt;chr&gt;</th><th scope=col>&lt;int&gt;</th><th scope=col>&lt;int&gt;</th><th scope=col>&lt;int&gt;</th></tr>\n",
       "</thead>\n",
       "<tbody>\n",
       "\t<tr><th scope=row>1</th><td>2004-01</td><td>12</td><td>8</td><td>15</td></tr>\n",
       "\t<tr><th scope=row>2</th><td>2004-02</td><td>12</td><td>9</td><td>15</td></tr>\n",
       "\t<tr><th scope=row>3</th><td>2004-03</td><td>12</td><td>9</td><td>14</td></tr>\n",
       "\t<tr><th scope=row>4</th><td>2004-04</td><td>12</td><td>8</td><td>14</td></tr>\n",
       "\t<tr><th scope=row>5</th><td>2004-05</td><td>11</td><td>9</td><td>13</td></tr>\n",
       "\t<tr><th scope=row>6</th><td>2004-06</td><td> 9</td><td>7</td><td>12</td></tr>\n",
       "</tbody>\n",
       "</table>\n"
      ],
      "text/latex": [
       "A data.frame: 6 × 4\n",
       "\\begin{tabular}{r|llll}\n",
       "  & Month & Mozart & Beethoven & Bach\\\\\n",
       "  & <chr> & <int> & <int> & <int>\\\\\n",
       "\\hline\n",
       "\t1 & 2004-01 & 12 & 8 & 15\\\\\n",
       "\t2 & 2004-02 & 12 & 9 & 15\\\\\n",
       "\t3 & 2004-03 & 12 & 9 & 14\\\\\n",
       "\t4 & 2004-04 & 12 & 8 & 14\\\\\n",
       "\t5 & 2004-05 & 11 & 9 & 13\\\\\n",
       "\t6 & 2004-06 &  9 & 7 & 12\\\\\n",
       "\\end{tabular}\n"
      ],
      "text/markdown": [
       "\n",
       "A data.frame: 6 × 4\n",
       "\n",
       "| <!--/--> | Month &lt;chr&gt; | Mozart &lt;int&gt; | Beethoven &lt;int&gt; | Bach &lt;int&gt; |\n",
       "|---|---|---|---|---|\n",
       "| 1 | 2004-01 | 12 | 8 | 15 |\n",
       "| 2 | 2004-02 | 12 | 9 | 15 |\n",
       "| 3 | 2004-03 | 12 | 9 | 14 |\n",
       "| 4 | 2004-04 | 12 | 8 | 14 |\n",
       "| 5 | 2004-05 | 11 | 9 | 13 |\n",
       "| 6 | 2004-06 |  9 | 7 | 12 |\n",
       "\n"
      ],
      "text/plain": [
       "  Month   Mozart Beethoven Bach\n",
       "1 2004-01 12     8         15  \n",
       "2 2004-02 12     9         15  \n",
       "3 2004-03 12     9         14  \n",
       "4 2004-04 12     8         14  \n",
       "5 2004-05 11     9         13  \n",
       "6 2004-06  9     7         12  "
      ]
     },
     "metadata": {},
     "output_type": "display_data"
    }
   ],
   "source": [
    "# This works with missing data by specifying the separator: \n",
    "# \\t is for tabs, sep = \",\" for commas. R converts missing\n",
    "# to \"NA\"\n",
    "r_txt2 <- read.table(\"../CourseFiles/ImportingData_Datasets/mbb.txt\", \n",
    "  header = TRUE, \n",
    "  sep = \"\\t\")\n",
    "head(r_txt2)"
   ]
  },
  {
   "cell_type": "code",
   "execution_count": 13,
   "metadata": {
    "vscode": {
     "languageId": "r"
    }
   },
   "outputs": [
    {
     "data": {
      "text/html": [
       "<table class=\"dataframe\">\n",
       "<caption>A data.frame: 6 × 4</caption>\n",
       "<thead>\n",
       "\t<tr><th></th><th scope=col>Month</th><th scope=col>Mozart</th><th scope=col>Beethoven</th><th scope=col>Bach</th></tr>\n",
       "\t<tr><th></th><th scope=col>&lt;chr&gt;</th><th scope=col>&lt;int&gt;</th><th scope=col>&lt;int&gt;</th><th scope=col>&lt;int&gt;</th></tr>\n",
       "</thead>\n",
       "<tbody>\n",
       "\t<tr><th scope=row>1</th><td>2004-01</td><td>12</td><td>8</td><td>15</td></tr>\n",
       "\t<tr><th scope=row>2</th><td>2004-02</td><td>12</td><td>9</td><td>15</td></tr>\n",
       "\t<tr><th scope=row>3</th><td>2004-03</td><td>12</td><td>9</td><td>14</td></tr>\n",
       "\t<tr><th scope=row>4</th><td>2004-04</td><td>12</td><td>8</td><td>14</td></tr>\n",
       "\t<tr><th scope=row>5</th><td>2004-05</td><td>11</td><td>9</td><td>13</td></tr>\n",
       "\t<tr><th scope=row>6</th><td>2004-06</td><td> 9</td><td>7</td><td>12</td></tr>\n",
       "</tbody>\n",
       "</table>\n"
      ],
      "text/latex": [
       "A data.frame: 6 × 4\n",
       "\\begin{tabular}{r|llll}\n",
       "  & Month & Mozart & Beethoven & Bach\\\\\n",
       "  & <chr> & <int> & <int> & <int>\\\\\n",
       "\\hline\n",
       "\t1 & 2004-01 & 12 & 8 & 15\\\\\n",
       "\t2 & 2004-02 & 12 & 9 & 15\\\\\n",
       "\t3 & 2004-03 & 12 & 9 & 14\\\\\n",
       "\t4 & 2004-04 & 12 & 8 & 14\\\\\n",
       "\t5 & 2004-05 & 11 & 9 & 13\\\\\n",
       "\t6 & 2004-06 &  9 & 7 & 12\\\\\n",
       "\\end{tabular}\n"
      ],
      "text/markdown": [
       "\n",
       "A data.frame: 6 × 4\n",
       "\n",
       "| <!--/--> | Month &lt;chr&gt; | Mozart &lt;int&gt; | Beethoven &lt;int&gt; | Bach &lt;int&gt; |\n",
       "|---|---|---|---|---|\n",
       "| 1 | 2004-01 | 12 | 8 | 15 |\n",
       "| 2 | 2004-02 | 12 | 9 | 15 |\n",
       "| 3 | 2004-03 | 12 | 9 | 14 |\n",
       "| 4 | 2004-04 | 12 | 8 | 14 |\n",
       "| 5 | 2004-05 | 11 | 9 | 13 |\n",
       "| 6 | 2004-06 |  9 | 7 | 12 |\n",
       "\n"
      ],
      "text/plain": [
       "  Month   Mozart Beethoven Bach\n",
       "1 2004-01 12     8         15  \n",
       "2 2004-02 12     9         15  \n",
       "3 2004-03 12     9         14  \n",
       "4 2004-04 12     8         14  \n",
       "5 2004-05 11     9         13  \n",
       "6 2004-06  9     7         12  "
      ]
     },
     "metadata": {},
     "output_type": "display_data"
    }
   ],
   "source": [
    "# CSV FILES\n",
    "# Don't have to specify delimiters for missing data\n",
    "# because CSV means \"comma separated values\"\n",
    "trends.csv <- read.csv(\"../CourseFiles/ImportingData_Datasets/mbb.csv\",\n",
    " header = TRUE)\n",
    "head(trends.csv)"
   ]
  },
  {
   "cell_type": "markdown",
   "metadata": {},
   "source": [
    "# CLEAN UP #################################################"
   ]
  },
  {
   "cell_type": "code",
   "execution_count": 14,
   "metadata": {
    "vscode": {
     "languageId": "r"
    }
   },
   "outputs": [],
   "source": [
    "rm(list = ls()) # Clear environment"
   ]
  }
 ],
 "metadata": {
  "kernelspec": {
   "display_name": "R",
   "language": "R",
   "name": "ir"
  },
  "language_info": {
   "codemirror_mode": "r",
   "file_extension": ".r",
   "mimetype": "text/x-r-source",
   "name": "R",
   "pygments_lexer": "r",
   "version": "4.1.3"
  }
 },
 "nbformat": 4,
 "nbformat_minor": 2
}
